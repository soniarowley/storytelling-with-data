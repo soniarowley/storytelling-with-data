{
 "cells": [
  {
   "cell_type": "code",
   "execution_count": 2,
   "metadata": {
    "ExecuteTime": {
     "end_time": "2019-05-01T18:26:18.039102Z",
     "start_time": "2019-05-01T18:26:17.612762Z"
    },
    "collapsed": true
   },
   "outputs": [],
   "source": [
    "import googlemaps\n",
    "import pandas as pd\n",
    "import pickle"
   ]
  },
  {
   "cell_type": "code",
   "execution_count": 2,
   "metadata": {
    "ExecuteTime": {
     "end_time": "2019-05-01T06:25:29.824531Z",
     "start_time": "2019-05-01T06:25:29.817508Z"
    },
    "collapsed": true
   },
   "outputs": [],
   "source": [
    "# keyfile = '/dartfs/rc/lab/P/Psych81.09/course/shared/gmaps.api.key'\n",
    "keyfile = 'gmaps.api.key'\n",
    "fd = open(keyfile, 'r')\n",
    "key = fd.readline()[:-1]\n",
    "fd.close()"
   ]
  },
  {
   "cell_type": "code",
   "execution_count": 3,
   "metadata": {
    "ExecuteTime": {
     "end_time": "2019-05-01T06:25:30.835156Z",
     "start_time": "2019-05-01T06:25:30.832054Z"
    },
    "collapsed": true
   },
   "outputs": [],
   "source": [
    "gmaps = googlemaps.Client(key=key)"
   ]
  },
  {
   "cell_type": "code",
   "execution_count": 8,
   "metadata": {
    "ExecuteTime": {
     "end_time": "2019-05-01T18:27:21.088738Z",
     "start_time": "2019-05-01T18:27:21.081884Z"
    }
   },
   "outputs": [],
   "source": [
    "df=pd.read_csv('/Users/paxtonfitzpatrick/Desktop/parking-violations-geodata.csv',\n",
    "              delimiter=',', encoding = 'latin-1', index_col='Unnamed: 0', dtype={'Zip Code' : int})"
   ]
  },
  {
   "cell_type": "code",
   "execution_count": 5,
   "metadata": {
    "ExecuteTime": {
     "end_time": "2019-05-01T06:29:04.391451Z",
     "start_time": "2019-05-01T06:26:04.504330Z"
    },
    "collapsed": true
   },
   "outputs": [],
   "source": [
    "geodata = dict()\n",
    "\n",
    "for ix, row in df.iterrows():\n",
    "    fmt_addr = str(row['House Number']) + ' ' + row['Street Name'] + ', ' + row['City & State']\n",
    "    try:\n",
    "#         addr_info = gmaps.geocode(fmt_addr)\n",
    "    except:\n",
    "        print(f'Error in row {ix}')\n",
    "        continue\n",
    "        \n",
    "    if addr_info:\n",
    "        geodata[ix] = addr_info\n",
    "    else:\n",
    "        print(f'No data returned for row {ix}')\n",
    "        "
   ]
  },
  {
   "cell_type": "code",
   "execution_count": 8,
   "metadata": {
    "ExecuteTime": {
     "end_time": "2019-05-01T06:29:12.103264Z",
     "start_time": "2019-05-01T06:29:12.090194Z"
    },
    "collapsed": true
   },
   "outputs": [],
   "source": [
    "# with open('geodata.p', 'wb') as f:\n",
    "#     pickle.dump(geodata, f)"
   ]
  },
  {
   "cell_type": "code",
   "execution_count": 50,
   "metadata": {
    "ExecuteTime": {
     "end_time": "2019-05-01T06:46:01.476518Z",
     "start_time": "2019-05-01T06:46:01.428340Z"
    },
    "collapsed": true,
    "scrolled": true
   },
   "outputs": [],
   "source": [
    "for ix, row in df.iterrows():\n",
    "    for component in geodata[ix][0]['address_components']:\n",
    "        if 'postal_code' in component['types']:   \n",
    "            df.at[ix, 'Zip Code'] = int(component['short_name'])\n",
    "            \n",
    "    df.at[ix, 'Lat'] = geodata[ix][0]['geometry']['location']['lat']\n",
    "    df.at[ix, 'Long'] = geodata[ix][0]['geometry']['location']['lng']"
   ]
  },
  {
   "cell_type": "code",
   "execution_count": 56,
   "metadata": {
    "ExecuteTime": {
     "end_time": "2019-05-01T06:48:34.873786Z",
     "start_time": "2019-05-01T06:48:34.857946Z"
    },
    "collapsed": true
   },
   "outputs": [],
   "source": [
    "# df.to_csv('parking-violations-geodata.csv')"
   ]
  },
  {
   "cell_type": "code",
   "execution_count": 3,
   "metadata": {
    "ExecuteTime": {
     "end_time": "2019-05-01T18:26:19.804126Z",
     "start_time": "2019-05-01T18:26:19.783115Z"
    }
   },
   "outputs": [],
   "source": [
    "with open('geodata.p', 'rb') as f:\n",
    "    geodata = pickle.load(f)"
   ]
  },
  {
   "cell_type": "code",
   "execution_count": 11,
   "metadata": {
    "ExecuteTime": {
     "end_time": "2019-05-01T18:28:58.049772Z",
     "start_time": "2019-05-01T18:28:58.043723Z"
    },
    "scrolled": true
   },
   "outputs": [
    {
     "data": {
      "text/plain": [
       "[{'address_components': [{'long_name': '133',\n",
       "    'short_name': '133',\n",
       "    'types': ['street_number']},\n",
       "   {'long_name': 'Frost Street', 'short_name': 'Frost St', 'types': ['route']},\n",
       "   {'long_name': 'Williamsburg',\n",
       "    'short_name': 'Williamsburg',\n",
       "    'types': ['neighborhood', 'political']},\n",
       "   {'long_name': 'Brooklyn',\n",
       "    'short_name': 'Brooklyn',\n",
       "    'types': ['political', 'sublocality', 'sublocality_level_1']},\n",
       "   {'long_name': 'Kings County',\n",
       "    'short_name': 'Kings County',\n",
       "    'types': ['administrative_area_level_2', 'political']},\n",
       "   {'long_name': 'New York',\n",
       "    'short_name': 'NY',\n",
       "    'types': ['administrative_area_level_1', 'political']},\n",
       "   {'long_name': 'United States',\n",
       "    'short_name': 'US',\n",
       "    'types': ['country', 'political']},\n",
       "   {'long_name': '11211', 'short_name': '11211', 'types': ['postal_code']}],\n",
       "  'formatted_address': '133 Frost St, Brooklyn, NY 11211, USA',\n",
       "  'geometry': {'bounds': {'northeast': {'lat': 40.7181074, 'lng': -73.9462073},\n",
       "    'southwest': {'lat': 40.7180196, 'lng': -73.9463293}},\n",
       "   'location': {'lat': 40.7180535, 'lng': -73.9462496},\n",
       "   'location_type': 'ROOFTOP',\n",
       "   'viewport': {'northeast': {'lat': 40.7194124802915,\n",
       "     'lng': -73.94491931970849},\n",
       "    'southwest': {'lat': 40.7167145197085, 'lng': -73.94761728029151}}},\n",
       "  'place_id': 'ChIJa-gBXlBZwokR_YRJszpOQsc',\n",
       "  'types': ['premise']}]"
      ]
     },
     "execution_count": 11,
     "metadata": {},
     "output_type": "execute_result"
    }
   ],
   "source": [
    "geodata[4]"
   ]
  },
  {
   "cell_type": "code",
   "execution_count": 9,
   "metadata": {
    "ExecuteTime": {
     "end_time": "2019-05-01T18:27:27.363259Z",
     "start_time": "2019-05-01T18:27:27.349353Z"
    }
   },
   "outputs": [
    {
     "data": {
      "text/html": [
       "<div>\n",
       "<style scoped>\n",
       "    .dataframe tbody tr th:only-of-type {\n",
       "        vertical-align: middle;\n",
       "    }\n",
       "\n",
       "    .dataframe tbody tr th {\n",
       "        vertical-align: top;\n",
       "    }\n",
       "\n",
       "    .dataframe thead th {\n",
       "        text-align: right;\n",
       "    }\n",
       "</style>\n",
       "<table border=\"1\" class=\"dataframe\">\n",
       "  <thead>\n",
       "    <tr style=\"text-align: right;\">\n",
       "      <th></th>\n",
       "      <th>Summons Number</th>\n",
       "      <th>Violation Code</th>\n",
       "      <th>Violation Time</th>\n",
       "      <th>House Number</th>\n",
       "      <th>Street Name</th>\n",
       "      <th>City &amp; State</th>\n",
       "      <th>Zip Code</th>\n",
       "      <th>Lat</th>\n",
       "      <th>Long</th>\n",
       "    </tr>\n",
       "  </thead>\n",
       "  <tbody>\n",
       "    <tr>\n",
       "      <th>0</th>\n",
       "      <td>8725653684</td>\n",
       "      <td>71</td>\n",
       "      <td>0319P</td>\n",
       "      <td>235</td>\n",
       "      <td>Bedford Ave</td>\n",
       "      <td>Brooklyn,  NY</td>\n",
       "      <td>11211</td>\n",
       "      <td>40.715957</td>\n",
       "      <td>-73.959527</td>\n",
       "    </tr>\n",
       "    <tr>\n",
       "      <th>1</th>\n",
       "      <td>8725653696</td>\n",
       "      <td>20</td>\n",
       "      <td>0322P</td>\n",
       "      <td>235</td>\n",
       "      <td>Bedford Ave</td>\n",
       "      <td>Brooklyn,  NY</td>\n",
       "      <td>11211</td>\n",
       "      <td>40.715957</td>\n",
       "      <td>-73.959527</td>\n",
       "    </tr>\n",
       "    <tr>\n",
       "      <th>2</th>\n",
       "      <td>8725653702</td>\n",
       "      <td>20</td>\n",
       "      <td>0324P</td>\n",
       "      <td>235</td>\n",
       "      <td>Bedford Ave</td>\n",
       "      <td>Brooklyn,  NY</td>\n",
       "      <td>11211</td>\n",
       "      <td>40.715957</td>\n",
       "      <td>-73.959527</td>\n",
       "    </tr>\n",
       "    <tr>\n",
       "      <th>3</th>\n",
       "      <td>8670481194</td>\n",
       "      <td>21</td>\n",
       "      <td>1138A</td>\n",
       "      <td>133</td>\n",
       "      <td>Frost St</td>\n",
       "      <td>Brooklyn,  NY</td>\n",
       "      <td>11211</td>\n",
       "      <td>40.718053</td>\n",
       "      <td>-73.946250</td>\n",
       "    </tr>\n",
       "    <tr>\n",
       "      <th>4</th>\n",
       "      <td>8670481212</td>\n",
       "      <td>21</td>\n",
       "      <td>1140A</td>\n",
       "      <td>133</td>\n",
       "      <td>Frost St</td>\n",
       "      <td>Brooklyn,  NY</td>\n",
       "      <td>11211</td>\n",
       "      <td>40.718053</td>\n",
       "      <td>-73.946250</td>\n",
       "    </tr>\n",
       "  </tbody>\n",
       "</table>\n",
       "</div>"
      ],
      "text/plain": [
       "   Summons Number  Violation Code Violation Time  House Number  Street Name  \\\n",
       "0      8725653684              71          0319P           235  Bedford Ave   \n",
       "1      8725653696              20          0322P           235  Bedford Ave   \n",
       "2      8725653702              20          0324P           235  Bedford Ave   \n",
       "3      8670481194              21          1138A           133     Frost St   \n",
       "4      8670481212              21          1140A           133     Frost St   \n",
       "\n",
       "    City & State  Zip Code        Lat       Long  \n",
       "0  Brooklyn,  NY     11211  40.715957 -73.959527  \n",
       "1  Brooklyn,  NY     11211  40.715957 -73.959527  \n",
       "2  Brooklyn,  NY     11211  40.715957 -73.959527  \n",
       "3  Brooklyn,  NY     11211  40.718053 -73.946250  \n",
       "4  Brooklyn,  NY     11211  40.718053 -73.946250  "
      ]
     },
     "execution_count": 9,
     "metadata": {},
     "output_type": "execute_result"
    }
   ],
   "source": [
    "df.head(5)"
   ]
  },
  {
   "cell_type": "code",
   "execution_count": 10,
   "metadata": {
    "ExecuteTime": {
     "end_time": "2019-05-01T18:27:37.718184Z",
     "start_time": "2019-05-01T18:27:37.711336Z"
    },
    "scrolled": true
   },
   "outputs": [
    {
     "data": {
      "text/plain": [
       "0      11211\n",
       "1      11211\n",
       "2      11211\n",
       "3      11211\n",
       "4      11211\n",
       "5      11211\n",
       "6      11211\n",
       "7      11211\n",
       "8      11211\n",
       "9      11211\n",
       "10     11211\n",
       "11     11211\n",
       "12     11211\n",
       "13     11211\n",
       "14     11211\n",
       "15     11222\n",
       "16     11211\n",
       "17     11211\n",
       "18     11215\n",
       "19     11211\n",
       "20     11211\n",
       "21     11211\n",
       "22     11211\n",
       "23     11211\n",
       "24     11211\n",
       "25     11211\n",
       "26     11211\n",
       "27     11211\n",
       "28     11211\n",
       "29     11211\n",
       "       ...  \n",
       "343    11211\n",
       "344    11211\n",
       "345    11211\n",
       "346    11233\n",
       "347    11233\n",
       "348    11222\n",
       "349    11222\n",
       "350    11222\n",
       "351    11222\n",
       "352    11222\n",
       "353    11222\n",
       "354    11222\n",
       "355    11211\n",
       "356    11211\n",
       "357    11211\n",
       "358    11211\n",
       "359    11211\n",
       "360    11211\n",
       "361    11211\n",
       "362    11211\n",
       "363    11211\n",
       "364    11211\n",
       "365    11249\n",
       "366    11249\n",
       "367    11249\n",
       "368    11249\n",
       "369    11249\n",
       "370    11249\n",
       "371    11249\n",
       "372    11249\n",
       "Name: Zip Code, Length: 373, dtype: int64"
      ]
     },
     "execution_count": 10,
     "metadata": {},
     "output_type": "execute_result"
    }
   ],
   "source": [
    "df['Zip Code']"
   ]
  },
  {
   "cell_type": "code",
   "execution_count": null,
   "metadata": {
    "collapsed": true
   },
   "outputs": [],
   "source": []
  }
 ],
 "metadata": {
  "kernelspec": {
   "display_name": "Python 3",
   "language": "python",
   "name": "python3"
  },
  "language_info": {
   "codemirror_mode": {
    "name": "ipython",
    "version": 3
   },
   "file_extension": ".py",
   "mimetype": "text/x-python",
   "name": "python",
   "nbconvert_exporter": "python",
   "pygments_lexer": "ipython3",
   "version": "3.6.2"
  }
 },
 "nbformat": 4,
 "nbformat_minor": 2
}
