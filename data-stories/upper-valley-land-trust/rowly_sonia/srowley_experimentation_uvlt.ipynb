{
 "cells": [
  {
   "cell_type": "markdown",
   "metadata": {},
   "source": [
    "### Potential Questions\n",
    "\n",
    "* Is giving dependent on age and income?\n",
    "* Are landowners more likely to give?\n",
    "* Mapping average age and average income onto the different zipcodes."
   ]
  }
 ],
 "metadata": {
  "kernelspec": {
   "display_name": "Psych 81.09",
   "language": "python",
   "name": "psych81.09"
  },
  "language_info": {
   "codemirror_mode": {
    "name": "ipython",
    "version": 3
   },
   "file_extension": ".py",
   "mimetype": "text/x-python",
   "name": "python",
   "nbconvert_exporter": "python",
   "pygments_lexer": "ipython3",
   "version": "3.6.8"
  }
 },
 "nbformat": 4,
 "nbformat_minor": 2
}
