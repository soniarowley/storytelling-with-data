{
 "cells": [
  {
   "cell_type": "code",
   "execution_count": 5,
   "metadata": {},
   "outputs": [],
   "source": [
    "import numpy as np\n",
    "import pandas as pd\n",
    "import seaborn as sns\n",
    "import os\n",
    "from glob import glob as lsdir"
   ]
  },
  {
   "cell_type": "code",
   "execution_count": 6,
   "metadata": {},
   "outputs": [],
   "source": [
    "# code from 'uvlt_explorations.ipynb', by Jeremy\n",
    "data_readers = {'xlsx': pd.read_excel, 'xls': pd.read_excel, 'dta': pd.read_stata}\n",
    "get_extension = lambda x: x.split('.')[-1]"
   ]
  },
  {
   "cell_type": "code",
   "execution_count": 7,
   "metadata": {},
   "outputs": [],
   "source": [
    "def read_data(datadir, readers):\n",
    "    files = lsdir(os.path.join(datadir, '*'))\n",
    "    readable_files = []\n",
    "    data = []\n",
    "    for f in files:\n",
    "        ext = get_extension(f)\n",
    "        if ext in readers.keys():\n",
    "            readable_files.append(f)\n",
    "            data.append(data_readers[ext](f))\n",
    "    return readable_files, data"
   ]
  },
  {
   "cell_type": "code",
   "execution_count": 8,
   "metadata": {},
   "outputs": [
    {
     "name": "stdout",
     "output_type": "stream",
     "text": [
      "WARNING *** OLE2 inconsistency: SSCS size is 0 but SSAT size is non-zero\n"
     ]
    }
   ],
   "source": [
    "fnames, data = read_data('data', data_readers)"
   ]
  },
  {
   "cell_type": "code",
   "execution_count": 9,
   "metadata": {},
   "outputs": [
    {
     "data": {
      "text/plain": [
       "['data/UVLTdata_individual.dta',\n",
       " 'data/UVLTdata_final.dta',\n",
       " 'data/Direct Mailing Analysis.xlsx',\n",
       " 'data/UVLTDataAnalysis.xls',\n",
       " 'data/TownLevelData.xlsx',\n",
       " 'data/TownLevelData.dta',\n",
       " 'data/CensusInfoUpperValley2015JH.xlsx']"
      ]
     },
     "execution_count": 9,
     "metadata": {},
     "output_type": "execute_result"
    }
   ],
   "source": [
    "fnames"
   ]
  },
  {
   "cell_type": "code",
   "execution_count": 11,
   "metadata": {},
   "outputs": [
    {
     "data": {
      "text/html": [
       "<div>\n",
       "<style scoped>\n",
       "    .dataframe tbody tr th:only-of-type {\n",
       "        vertical-align: middle;\n",
       "    }\n",
       "\n",
       "    .dataframe tbody tr th {\n",
       "        vertical-align: top;\n",
       "    }\n",
       "\n",
       "    .dataframe thead th {\n",
       "        text-align: right;\n",
       "    }\n",
       "</style>\n",
       "<table border=\"1\" class=\"dataframe\">\n",
       "  <thead>\n",
       "    <tr style=\"text-align: right;\">\n",
       "      <th></th>\n",
       "      <th>ContactID</th>\n",
       "      <th>FirstName</th>\n",
       "      <th>LastName</th>\n",
       "      <th>City</th>\n",
       "      <th>State</th>\n",
       "      <th>ZipCode</th>\n",
       "      <th>TownID</th>\n",
       "      <th>Town</th>\n",
       "      <th>LandOwnerTownID</th>\n",
       "      <th>DeceasedDate</th>\n",
       "      <th>...</th>\n",
       "      <th>E-2010-11</th>\n",
       "      <th>E-2011-12</th>\n",
       "      <th>E-2012-13</th>\n",
       "      <th>E-2013-14</th>\n",
       "      <th>E-2014-15</th>\n",
       "      <th>E-2015-16</th>\n",
       "      <th>E-2016-17</th>\n",
       "      <th>E-2017-18</th>\n",
       "      <th>E-2018-19</th>\n",
       "      <th>E-2019-20</th>\n",
       "    </tr>\n",
       "  </thead>\n",
       "  <tbody>\n",
       "    <tr>\n",
       "      <th>0</th>\n",
       "      <td>1544</td>\n",
       "      <td>Charles                                       ...</td>\n",
       "      <td>Pitman</td>\n",
       "      <td>Chapel Hill</td>\n",
       "      <td>NC</td>\n",
       "      <td>27517</td>\n",
       "      <td>60</td>\n",
       "      <td>All Other Towns</td>\n",
       "      <td>0</td>\n",
       "      <td>NaT</td>\n",
       "      <td>...</td>\n",
       "      <td>0</td>\n",
       "      <td>0</td>\n",
       "      <td>0</td>\n",
       "      <td>0</td>\n",
       "      <td>0</td>\n",
       "      <td>0</td>\n",
       "      <td>0</td>\n",
       "      <td>0</td>\n",
       "      <td>0</td>\n",
       "      <td>0</td>\n",
       "    </tr>\n",
       "    <tr>\n",
       "      <th>1</th>\n",
       "      <td>1545</td>\n",
       "      <td>Pat</td>\n",
       "      <td>Reed</td>\n",
       "      <td>Lebanon</td>\n",
       "      <td>NH</td>\n",
       "      <td>03766</td>\n",
       "      <td>20</td>\n",
       "      <td>Lebanon</td>\n",
       "      <td>0</td>\n",
       "      <td>NaT</td>\n",
       "      <td>...</td>\n",
       "      <td>0</td>\n",
       "      <td>0</td>\n",
       "      <td>0</td>\n",
       "      <td>0</td>\n",
       "      <td>0</td>\n",
       "      <td>0</td>\n",
       "      <td>0</td>\n",
       "      <td>0</td>\n",
       "      <td>0</td>\n",
       "      <td>0</td>\n",
       "    </tr>\n",
       "    <tr>\n",
       "      <th>2</th>\n",
       "      <td>1546</td>\n",
       "      <td>David</td>\n",
       "      <td>Davenport</td>\n",
       "      <td>New London</td>\n",
       "      <td>NH</td>\n",
       "      <td>03257</td>\n",
       "      <td>61</td>\n",
       "      <td>All Other Towns NH</td>\n",
       "      <td>0</td>\n",
       "      <td>NaT</td>\n",
       "      <td>...</td>\n",
       "      <td>0</td>\n",
       "      <td>0</td>\n",
       "      <td>0</td>\n",
       "      <td>0</td>\n",
       "      <td>0</td>\n",
       "      <td>0</td>\n",
       "      <td>0</td>\n",
       "      <td>0</td>\n",
       "      <td>0</td>\n",
       "      <td>0</td>\n",
       "    </tr>\n",
       "    <tr>\n",
       "      <th>3</th>\n",
       "      <td>1547</td>\n",
       "      <td>Patricia</td>\n",
       "      <td>Stevens</td>\n",
       "      <td>Ascutney</td>\n",
       "      <td>VT</td>\n",
       "      <td>05030</td>\n",
       "      <td>41</td>\n",
       "      <td>Weathersfield</td>\n",
       "      <td>41</td>\n",
       "      <td>NaT</td>\n",
       "      <td>...</td>\n",
       "      <td>0</td>\n",
       "      <td>0</td>\n",
       "      <td>0</td>\n",
       "      <td>0</td>\n",
       "      <td>0</td>\n",
       "      <td>0</td>\n",
       "      <td>0</td>\n",
       "      <td>0</td>\n",
       "      <td>0</td>\n",
       "      <td>0</td>\n",
       "    </tr>\n",
       "    <tr>\n",
       "      <th>4</th>\n",
       "      <td>1548</td>\n",
       "      <td>Margaret Elizabeth</td>\n",
       "      <td>Stevens</td>\n",
       "      <td>Springfield</td>\n",
       "      <td>VT</td>\n",
       "      <td>05156</td>\n",
       "      <td>34</td>\n",
       "      <td>Springfield</td>\n",
       "      <td>0</td>\n",
       "      <td>2016-05-08</td>\n",
       "      <td>...</td>\n",
       "      <td>0</td>\n",
       "      <td>0</td>\n",
       "      <td>0</td>\n",
       "      <td>0</td>\n",
       "      <td>0</td>\n",
       "      <td>0</td>\n",
       "      <td>0</td>\n",
       "      <td>0</td>\n",
       "      <td>0</td>\n",
       "      <td>0</td>\n",
       "    </tr>\n",
       "  </tbody>\n",
       "</table>\n",
       "<p>5 rows × 97 columns</p>\n",
       "</div>"
      ],
      "text/plain": [
       "   ContactID                                          FirstName   LastName  \\\n",
       "0       1544  Charles                                       ...     Pitman   \n",
       "1       1545                                                Pat       Reed   \n",
       "2       1546                                              David  Davenport   \n",
       "3       1547                                           Patricia    Stevens   \n",
       "4       1548                                 Margaret Elizabeth    Stevens   \n",
       "\n",
       "          City State ZipCode  TownID                Town  LandOwnerTownID  \\\n",
       "0  Chapel Hill    NC   27517      60     All Other Towns                0   \n",
       "1      Lebanon    NH   03766      20             Lebanon                0   \n",
       "2   New London    NH   03257      61  All Other Towns NH                0   \n",
       "3     Ascutney    VT   05030      41       Weathersfield               41   \n",
       "4  Springfield    VT   05156      34         Springfield                0   \n",
       "\n",
       "  DeceasedDate    ...      E-2010-11  E-2011-12  E-2012-13  E-2013-14  \\\n",
       "0          NaT    ...              0          0          0          0   \n",
       "1          NaT    ...              0          0          0          0   \n",
       "2          NaT    ...              0          0          0          0   \n",
       "3          NaT    ...              0          0          0          0   \n",
       "4   2016-05-08    ...              0          0          0          0   \n",
       "\n",
       "   E-2014-15  E-2015-16  E-2016-17  E-2017-18  E-2018-19  E-2019-20  \n",
       "0          0          0          0          0          0          0  \n",
       "1          0          0          0          0          0          0  \n",
       "2          0          0          0          0          0          0  \n",
       "3          0          0          0          0          0          0  \n",
       "4          0          0          0          0          0          0  \n",
       "\n",
       "[5 rows x 97 columns]"
      ]
     },
     "execution_count": 11,
     "metadata": {},
     "output_type": "execute_result"
    }
   ],
   "source": [
    "data[3].head()"
   ]
  },
  {
   "cell_type": "code",
   "execution_count": 12,
   "metadata": {},
   "outputs": [
    {
     "data": {
      "text/plain": [
       "(13273, 97)"
      ]
     },
     "execution_count": 12,
     "metadata": {},
     "output_type": "execute_result"
    }
   ],
   "source": [
    "data[3].shape"
   ]
  },
  {
   "cell_type": "code",
   "execution_count": null,
   "metadata": {},
   "outputs": [],
   "source": []
  }
 ],
 "metadata": {
  "kernelspec": {
   "display_name": "Psych 81.09",
   "language": "python",
   "name": "psych81.09"
  },
  "language_info": {
   "codemirror_mode": {
    "name": "ipython",
    "version": 3
   },
   "file_extension": ".py",
   "mimetype": "text/x-python",
   "name": "python",
   "nbconvert_exporter": "python",
   "pygments_lexer": "ipython3",
   "version": "3.6.8"
  }
 },
 "nbformat": 4,
 "nbformat_minor": 2
}
