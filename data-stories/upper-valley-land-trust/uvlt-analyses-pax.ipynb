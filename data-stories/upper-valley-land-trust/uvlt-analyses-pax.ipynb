{
 "cells": [
  {
   "cell_type": "markdown",
   "metadata": {},
   "source": [
    "# Which advertisements are worth their cost?"
   ]
  },
  {
   "cell_type": "markdown",
   "metadata": {},
   "source": [
    "## imports"
   ]
  },
  {
   "cell_type": "code",
   "execution_count": 1,
   "metadata": {
    "scrolled": true
   },
   "outputs": [
    {
     "name": "stderr",
     "output_type": "stream",
     "text": [
      "/optnfs/el7/jupyterhub/envs/Psych81.09/lib/python3.6/site-packages/hypertools/plot/__init__.py:10: UserWarning: Could not switch backend to TkAgg.  This may impact performance of the plotting functions.\n",
      "  warnings.warn('Could not switch backend to TkAgg.  This may impact performance of the plotting functions.')\n"
     ]
    }
   ],
   "source": [
    "import pandas as pd\n",
    "import numpy as np\n",
    "import seaborn as sns\n",
    "import matplotlib.pyplot as plt\n",
    "import hypertools as hyp\n",
    "from glob import glob as lsdir\n",
    "from scipy.stats import pearsonr\n",
    "import os\n",
    "import re\n",
    "import joblib\n",
    "import pickle\n",
    "import datetime as dt\n",
    "\n",
    "from sklearn import linear_model\n",
    "from sklearn.neural_network import MLPRegressor\n",
    "from sklearn.model_selection import train_test_split\n",
    "\n",
    "%matplotlib inline"
   ]
  },
  {
   "cell_type": "markdown",
   "metadata": {},
   "source": [
    "## load data"
   ]
  },
  {
   "cell_type": "code",
   "execution_count": 2,
   "metadata": {},
   "outputs": [],
   "source": [
    "data_readers = {'xlsx': pd.read_excel, 'xls': pd.read_excel, 'dta': pd.read_stata}\n",
    "get_extension = lambda x: x.split('.')[-1]"
   ]
  },
  {
   "cell_type": "code",
   "execution_count": 3,
   "metadata": {},
   "outputs": [],
   "source": [
    "def read_data(datadir, readers):\n",
    "    files = lsdir(os.path.join(datadir, '*'))\n",
    "    readable_files = []\n",
    "    data = []\n",
    "    for f in files:\n",
    "        ext = get_extension(f)\n",
    "        if ext in readers.keys():\n",
    "            readable_files.append(f)\n",
    "            data.append(data_readers[ext](f))\n",
    "    return readable_files, data"
   ]
  },
  {
   "cell_type": "code",
   "execution_count": 4,
   "metadata": {
    "scrolled": true
   },
   "outputs": [
    {
     "name": "stdout",
     "output_type": "stream",
     "text": [
      "WARNING *** OLE2 inconsistency: SSCS size is 0 but SSAT size is non-zero\n"
     ]
    }
   ],
   "source": [
    "fnames, data = read_data('data', data_readers)"
   ]
  },
  {
   "cell_type": "markdown",
   "metadata": {},
   "source": [
    "### remove excess rows"
   ]
  },
  {
   "cell_type": "code",
   "execution_count": 5,
   "metadata": {},
   "outputs": [],
   "source": [
    "data[2] = data[2][:24]"
   ]
  },
  {
   "cell_type": "markdown",
   "metadata": {},
   "source": [
    "### merged data[1] and data[3]"
   ]
  },
  {
   "cell_type": "code",
   "execution_count": 6,
   "metadata": {},
   "outputs": [],
   "source": [
    "with open('merged_df.p', 'rb') as f:\n",
    "    data1_3_merged = pickle.load(f)"
   ]
  },
  {
   "cell_type": "markdown",
   "metadata": {},
   "source": [
    "### add 2nd sheet from Direct Mailing Analysis.xlsx (2019)"
   ]
  },
  {
   "cell_type": "code",
   "execution_count": 7,
   "metadata": {},
   "outputs": [],
   "source": [
    "mailing_donations = pd.read_excel('data/Direct Mailing Analysis.xlsx', sheet_name=1).replace(\n",
    "    {'Defense of Wildlife' : 'defenders of wildlife', 'National Grographic' : 'National Geographic',\n",
    "    'National Parks & Cons. ': 'national parks'})\n",
    "                                                                                              \n",
    "mailing_donations.LIST = mailing_donations.LIST.apply(lambda x: x.upper())"
   ]
  },
  {
   "cell_type": "markdown",
   "metadata": {},
   "source": [
    "## manually load listing cost data"
   ]
  },
  {
   "cell_type": "code",
   "execution_count": 8,
   "metadata": {},
   "outputs": [],
   "source": [
    "listings = ['Appalachian Mountain club primary', 'Appalachian Mountain club secondary', 'backpacker magazine', \n",
    "            'birds & blooms magazine', 'Cabela’s camping', 'campmor camping/climbing buyers', \n",
    "            'defenders of wildlife', 'Duncraft catalog', 'environmental Defense fund', \n",
    "            'Audubon', \n",
    "            'National Geographic', 'national parks', \n",
    "            'national resources defense', 'NWF',\n",
    "            'nature conservancy', 'ocean conservancy',\n",
    "            'sierra club', 'the New Yorker', 'wilderness Society', \n",
    "            'world wildlife fund', 'Adirondack life']\n",
    "\n",
    "listings = list(map(str.upper, listings))"
   ]
  },
  {
   "cell_type": "code",
   "execution_count": 9,
   "metadata": {},
   "outputs": [],
   "source": [
    "list_costs = [0.00, 0.00, 10.01, 27.61, 0.00, 0.00, 26.11, 10.06, 14.20, 42.50, 60.33, 36.61, 0.00, \n",
    "              39.51, 92.27, 8.91, 27.51, 92.43, 14.34, 24.95, 0.00]"
   ]
  },
  {
   "cell_type": "code",
   "execution_count": 10,
   "metadata": {},
   "outputs": [],
   "source": [
    "cost_df = pd.DataFrame({'LIST' : listings, 'COST': list_costs})"
   ]
  },
  {
   "cell_type": "markdown",
   "metadata": {},
   "source": [
    "# how much in donations did each listing generate?"
   ]
  },
  {
   "cell_type": "code",
   "execution_count": 11,
   "metadata": {},
   "outputs": [],
   "source": [
    "gain_df = mailing_donations.groupby('LIST').sum().reset_index()"
   ]
  },
  {
   "cell_type": "code",
   "execution_count": 12,
   "metadata": {
    "scrolled": true
   },
   "outputs": [
    {
     "data": {
      "text/html": [
       "<div>\n",
       "<style scoped>\n",
       "    .dataframe tbody tr th:only-of-type {\n",
       "        vertical-align: middle;\n",
       "    }\n",
       "\n",
       "    .dataframe tbody tr th {\n",
       "        vertical-align: top;\n",
       "    }\n",
       "\n",
       "    .dataframe thead th {\n",
       "        text-align: right;\n",
       "    }\n",
       "</style>\n",
       "<table border=\"1\" class=\"dataframe\">\n",
       "  <thead>\n",
       "    <tr style=\"text-align: right;\">\n",
       "      <th></th>\n",
       "      <th>COST</th>\n",
       "      <th>LIST</th>\n",
       "    </tr>\n",
       "  </thead>\n",
       "  <tbody>\n",
       "    <tr>\n",
       "      <th>0</th>\n",
       "      <td>0.00</td>\n",
       "      <td>APPALACHIAN MOUNTAIN CLUB PRIMARY</td>\n",
       "    </tr>\n",
       "    <tr>\n",
       "      <th>1</th>\n",
       "      <td>0.00</td>\n",
       "      <td>APPALACHIAN MOUNTAIN CLUB SECONDARY</td>\n",
       "    </tr>\n",
       "    <tr>\n",
       "      <th>2</th>\n",
       "      <td>10.01</td>\n",
       "      <td>BACKPACKER MAGAZINE</td>\n",
       "    </tr>\n",
       "    <tr>\n",
       "      <th>3</th>\n",
       "      <td>27.61</td>\n",
       "      <td>BIRDS &amp; BLOOMS MAGAZINE</td>\n",
       "    </tr>\n",
       "    <tr>\n",
       "      <th>4</th>\n",
       "      <td>0.00</td>\n",
       "      <td>CABELA’S CAMPING</td>\n",
       "    </tr>\n",
       "  </tbody>\n",
       "</table>\n",
       "</div>"
      ],
      "text/plain": [
       "    COST                                 LIST\n",
       "0   0.00    APPALACHIAN MOUNTAIN CLUB PRIMARY\n",
       "1   0.00  APPALACHIAN MOUNTAIN CLUB SECONDARY\n",
       "2  10.01                  BACKPACKER MAGAZINE\n",
       "3  27.61              BIRDS & BLOOMS MAGAZINE\n",
       "4   0.00                     CABELA’S CAMPING"
      ]
     },
     "execution_count": 12,
     "metadata": {},
     "output_type": "execute_result"
    }
   ],
   "source": [
    "cost_df.head()"
   ]
  },
  {
   "cell_type": "code",
   "execution_count": 13,
   "metadata": {},
   "outputs": [
    {
     "data": {
      "text/html": [
       "<div>\n",
       "<style scoped>\n",
       "    .dataframe tbody tr th:only-of-type {\n",
       "        vertical-align: middle;\n",
       "    }\n",
       "\n",
       "    .dataframe tbody tr th {\n",
       "        vertical-align: top;\n",
       "    }\n",
       "\n",
       "    .dataframe thead th {\n",
       "        text-align: right;\n",
       "    }\n",
       "</style>\n",
       "<table border=\"1\" class=\"dataframe\">\n",
       "  <thead>\n",
       "    <tr style=\"text-align: right;\">\n",
       "      <th></th>\n",
       "      <th>LIST</th>\n",
       "      <th>ID</th>\n",
       "      <th>Town</th>\n",
       "      <th>AMOUNT</th>\n",
       "      <th>CODE</th>\n",
       "    </tr>\n",
       "  </thead>\n",
       "  <tbody>\n",
       "    <tr>\n",
       "      <th>0</th>\n",
       "      <td>AUDUBON</td>\n",
       "      <td>46208</td>\n",
       "      <td>96</td>\n",
       "      <td>200</td>\n",
       "      <td>904605</td>\n",
       "    </tr>\n",
       "    <tr>\n",
       "      <th>1</th>\n",
       "      <td>DEFENDERS OF WILDLIFE</td>\n",
       "      <td>45982</td>\n",
       "      <td>60</td>\n",
       "      <td>75</td>\n",
       "      <td>542748</td>\n",
       "    </tr>\n",
       "    <tr>\n",
       "      <th>2</th>\n",
       "      <td>DUNCRAFT CATALOG</td>\n",
       "      <td>11350</td>\n",
       "      <td>12</td>\n",
       "      <td>1000</td>\n",
       "      <td>180917</td>\n",
       "    </tr>\n",
       "    <tr>\n",
       "      <th>3</th>\n",
       "      <td>NATIONAL GEOGRAPHIC</td>\n",
       "      <td>21361</td>\n",
       "      <td>41</td>\n",
       "      <td>70</td>\n",
       "      <td>361846</td>\n",
       "    </tr>\n",
       "    <tr>\n",
       "      <th>4</th>\n",
       "      <td>NATIONAL PARKS</td>\n",
       "      <td>32989</td>\n",
       "      <td>55</td>\n",
       "      <td>85</td>\n",
       "      <td>542772</td>\n",
       "    </tr>\n",
       "  </tbody>\n",
       "</table>\n",
       "</div>"
      ],
      "text/plain": [
       "                    LIST     ID  Town  AMOUNT    CODE\n",
       "0                AUDUBON  46208    96     200  904605\n",
       "1  DEFENDERS OF WILDLIFE  45982    60      75  542748\n",
       "2       DUNCRAFT CATALOG  11350    12    1000  180917\n",
       "3    NATIONAL GEOGRAPHIC  21361    41      70  361846\n",
       "4         NATIONAL PARKS  32989    55      85  542772"
      ]
     },
     "execution_count": 13,
     "metadata": {},
     "output_type": "execute_result"
    }
   ],
   "source": [
    "gain_df.head()"
   ]
  },
  {
   "cell_type": "code",
   "execution_count": 14,
   "metadata": {},
   "outputs": [],
   "source": [
    "cost_gain = cost_df.merge(gain_df, how='left').fillna(0)"
   ]
  },
  {
   "cell_type": "code",
   "execution_count": 16,
   "metadata": {},
   "outputs": [
    {
     "data": {
      "text/html": [
       "<div>\n",
       "<style scoped>\n",
       "    .dataframe tbody tr th:only-of-type {\n",
       "        vertical-align: middle;\n",
       "    }\n",
       "\n",
       "    .dataframe tbody tr th {\n",
       "        vertical-align: top;\n",
       "    }\n",
       "\n",
       "    .dataframe thead th {\n",
       "        text-align: right;\n",
       "    }\n",
       "</style>\n",
       "<table border=\"1\" class=\"dataframe\">\n",
       "  <thead>\n",
       "    <tr style=\"text-align: right;\">\n",
       "      <th></th>\n",
       "      <th>COST</th>\n",
       "      <th>LIST</th>\n",
       "      <th>ID</th>\n",
       "      <th>Town</th>\n",
       "      <th>AMOUNT</th>\n",
       "      <th>CODE</th>\n",
       "    </tr>\n",
       "  </thead>\n",
       "  <tbody>\n",
       "    <tr>\n",
       "      <th>0</th>\n",
       "      <td>0.00</td>\n",
       "      <td>APPALACHIAN MOUNTAIN CLUB PRIMARY</td>\n",
       "      <td>0.0</td>\n",
       "      <td>0.0</td>\n",
       "      <td>0.0</td>\n",
       "      <td>0.0</td>\n",
       "    </tr>\n",
       "    <tr>\n",
       "      <th>1</th>\n",
       "      <td>0.00</td>\n",
       "      <td>APPALACHIAN MOUNTAIN CLUB SECONDARY</td>\n",
       "      <td>0.0</td>\n",
       "      <td>0.0</td>\n",
       "      <td>0.0</td>\n",
       "      <td>0.0</td>\n",
       "    </tr>\n",
       "    <tr>\n",
       "      <th>2</th>\n",
       "      <td>10.01</td>\n",
       "      <td>BACKPACKER MAGAZINE</td>\n",
       "      <td>0.0</td>\n",
       "      <td>0.0</td>\n",
       "      <td>0.0</td>\n",
       "      <td>0.0</td>\n",
       "    </tr>\n",
       "    <tr>\n",
       "      <th>3</th>\n",
       "      <td>27.61</td>\n",
       "      <td>BIRDS &amp; BLOOMS MAGAZINE</td>\n",
       "      <td>0.0</td>\n",
       "      <td>0.0</td>\n",
       "      <td>0.0</td>\n",
       "      <td>0.0</td>\n",
       "    </tr>\n",
       "    <tr>\n",
       "      <th>4</th>\n",
       "      <td>0.00</td>\n",
       "      <td>CABELA’S CAMPING</td>\n",
       "      <td>0.0</td>\n",
       "      <td>0.0</td>\n",
       "      <td>0.0</td>\n",
       "      <td>0.0</td>\n",
       "    </tr>\n",
       "    <tr>\n",
       "      <th>5</th>\n",
       "      <td>0.00</td>\n",
       "      <td>CAMPMOR CAMPING/CLIMBING BUYERS</td>\n",
       "      <td>0.0</td>\n",
       "      <td>0.0</td>\n",
       "      <td>0.0</td>\n",
       "      <td>0.0</td>\n",
       "    </tr>\n",
       "    <tr>\n",
       "      <th>6</th>\n",
       "      <td>26.11</td>\n",
       "      <td>DEFENDERS OF WILDLIFE</td>\n",
       "      <td>45982.0</td>\n",
       "      <td>60.0</td>\n",
       "      <td>75.0</td>\n",
       "      <td>542748.0</td>\n",
       "    </tr>\n",
       "    <tr>\n",
       "      <th>7</th>\n",
       "      <td>10.06</td>\n",
       "      <td>DUNCRAFT CATALOG</td>\n",
       "      <td>11350.0</td>\n",
       "      <td>12.0</td>\n",
       "      <td>1000.0</td>\n",
       "      <td>180917.0</td>\n",
       "    </tr>\n",
       "    <tr>\n",
       "      <th>8</th>\n",
       "      <td>14.20</td>\n",
       "      <td>ENVIRONMENTAL DEFENSE FUND</td>\n",
       "      <td>0.0</td>\n",
       "      <td>0.0</td>\n",
       "      <td>0.0</td>\n",
       "      <td>0.0</td>\n",
       "    </tr>\n",
       "    <tr>\n",
       "      <th>9</th>\n",
       "      <td>42.50</td>\n",
       "      <td>AUDUBON</td>\n",
       "      <td>46208.0</td>\n",
       "      <td>96.0</td>\n",
       "      <td>200.0</td>\n",
       "      <td>904605.0</td>\n",
       "    </tr>\n",
       "    <tr>\n",
       "      <th>10</th>\n",
       "      <td>60.33</td>\n",
       "      <td>NATIONAL GEOGRAPHIC</td>\n",
       "      <td>21361.0</td>\n",
       "      <td>41.0</td>\n",
       "      <td>70.0</td>\n",
       "      <td>361846.0</td>\n",
       "    </tr>\n",
       "    <tr>\n",
       "      <th>11</th>\n",
       "      <td>36.61</td>\n",
       "      <td>NATIONAL PARKS</td>\n",
       "      <td>32989.0</td>\n",
       "      <td>55.0</td>\n",
       "      <td>85.0</td>\n",
       "      <td>542772.0</td>\n",
       "    </tr>\n",
       "    <tr>\n",
       "      <th>12</th>\n",
       "      <td>0.00</td>\n",
       "      <td>NATIONAL RESOURCES DEFENSE</td>\n",
       "      <td>15305.0</td>\n",
       "      <td>28.0</td>\n",
       "      <td>25.0</td>\n",
       "      <td>180925.0</td>\n",
       "    </tr>\n",
       "    <tr>\n",
       "      <th>13</th>\n",
       "      <td>39.51</td>\n",
       "      <td>NWF</td>\n",
       "      <td>30633.0</td>\n",
       "      <td>41.0</td>\n",
       "      <td>100.0</td>\n",
       "      <td>361854.0</td>\n",
       "    </tr>\n",
       "    <tr>\n",
       "      <th>14</th>\n",
       "      <td>92.27</td>\n",
       "      <td>NATURE CONSERVANCY</td>\n",
       "      <td>76647.0</td>\n",
       "      <td>111.0</td>\n",
       "      <td>250.0</td>\n",
       "      <td>904640.0</td>\n",
       "    </tr>\n",
       "    <tr>\n",
       "      <th>15</th>\n",
       "      <td>8.91</td>\n",
       "      <td>OCEAN CONSERVANCY</td>\n",
       "      <td>445.0</td>\n",
       "      <td>5.0</td>\n",
       "      <td>200.0</td>\n",
       "      <td>180931.0</td>\n",
       "    </tr>\n",
       "    <tr>\n",
       "      <th>16</th>\n",
       "      <td>27.51</td>\n",
       "      <td>SIERRA CLUB</td>\n",
       "      <td>46041.0</td>\n",
       "      <td>81.0</td>\n",
       "      <td>85.0</td>\n",
       "      <td>542796.0</td>\n",
       "    </tr>\n",
       "    <tr>\n",
       "      <th>17</th>\n",
       "      <td>92.43</td>\n",
       "      <td>THE NEW YORKER</td>\n",
       "      <td>51759.0</td>\n",
       "      <td>76.0</td>\n",
       "      <td>285.0</td>\n",
       "      <td>904670.0</td>\n",
       "    </tr>\n",
       "    <tr>\n",
       "      <th>18</th>\n",
       "      <td>14.34</td>\n",
       "      <td>WILDERNESS SOCIETY</td>\n",
       "      <td>0.0</td>\n",
       "      <td>0.0</td>\n",
       "      <td>0.0</td>\n",
       "      <td>0.0</td>\n",
       "    </tr>\n",
       "    <tr>\n",
       "      <th>19</th>\n",
       "      <td>24.95</td>\n",
       "      <td>WORLD WILDLIFE FUND</td>\n",
       "      <td>0.0</td>\n",
       "      <td>0.0</td>\n",
       "      <td>0.0</td>\n",
       "      <td>0.0</td>\n",
       "    </tr>\n",
       "    <tr>\n",
       "      <th>20</th>\n",
       "      <td>0.00</td>\n",
       "      <td>ADIRONDACK LIFE</td>\n",
       "      <td>0.0</td>\n",
       "      <td>0.0</td>\n",
       "      <td>0.0</td>\n",
       "      <td>0.0</td>\n",
       "    </tr>\n",
       "  </tbody>\n",
       "</table>\n",
       "</div>"
      ],
      "text/plain": [
       "     COST                                 LIST       ID   Town  AMOUNT  \\\n",
       "0    0.00    APPALACHIAN MOUNTAIN CLUB PRIMARY      0.0    0.0     0.0   \n",
       "1    0.00  APPALACHIAN MOUNTAIN CLUB SECONDARY      0.0    0.0     0.0   \n",
       "2   10.01                  BACKPACKER MAGAZINE      0.0    0.0     0.0   \n",
       "3   27.61              BIRDS & BLOOMS MAGAZINE      0.0    0.0     0.0   \n",
       "4    0.00                     CABELA’S CAMPING      0.0    0.0     0.0   \n",
       "5    0.00      CAMPMOR CAMPING/CLIMBING BUYERS      0.0    0.0     0.0   \n",
       "6   26.11                DEFENDERS OF WILDLIFE  45982.0   60.0    75.0   \n",
       "7   10.06                     DUNCRAFT CATALOG  11350.0   12.0  1000.0   \n",
       "8   14.20           ENVIRONMENTAL DEFENSE FUND      0.0    0.0     0.0   \n",
       "9   42.50                              AUDUBON  46208.0   96.0   200.0   \n",
       "10  60.33                  NATIONAL GEOGRAPHIC  21361.0   41.0    70.0   \n",
       "11  36.61                       NATIONAL PARKS  32989.0   55.0    85.0   \n",
       "12   0.00           NATIONAL RESOURCES DEFENSE  15305.0   28.0    25.0   \n",
       "13  39.51                                  NWF  30633.0   41.0   100.0   \n",
       "14  92.27                   NATURE CONSERVANCY  76647.0  111.0   250.0   \n",
       "15   8.91                    OCEAN CONSERVANCY    445.0    5.0   200.0   \n",
       "16  27.51                          SIERRA CLUB  46041.0   81.0    85.0   \n",
       "17  92.43                       THE NEW YORKER  51759.0   76.0   285.0   \n",
       "18  14.34                   WILDERNESS SOCIETY      0.0    0.0     0.0   \n",
       "19  24.95                  WORLD WILDLIFE FUND      0.0    0.0     0.0   \n",
       "20   0.00                      ADIRONDACK LIFE      0.0    0.0     0.0   \n",
       "\n",
       "        CODE  \n",
       "0        0.0  \n",
       "1        0.0  \n",
       "2        0.0  \n",
       "3        0.0  \n",
       "4        0.0  \n",
       "5        0.0  \n",
       "6   542748.0  \n",
       "7   180917.0  \n",
       "8        0.0  \n",
       "9   904605.0  \n",
       "10  361846.0  \n",
       "11  542772.0  \n",
       "12  180925.0  \n",
       "13  361854.0  \n",
       "14  904640.0  \n",
       "15  180931.0  \n",
       "16  542796.0  \n",
       "17  904670.0  \n",
       "18       0.0  \n",
       "19       0.0  \n",
       "20       0.0  "
      ]
     },
     "execution_count": 16,
     "metadata": {},
     "output_type": "execute_result"
    }
   ],
   "source": [
    "cost_gain"
   ]
  },
  {
   "cell_type": "code",
   "execution_count": 15,
   "metadata": {},
   "outputs": [
    {
     "name": "stderr",
     "output_type": "stream",
     "text": [
      "/optnfs/el7/jupyterhub/envs/Psych81.09/lib/python3.6/site-packages/scipy/stats/stats.py:1713: FutureWarning: Using a non-tuple sequence for multidimensional indexing is deprecated; use `arr[tuple(seq)]` instead of `arr[seq]`. In the future this will be interpreted as an array index, `arr[np.array(seq)]`, which will result either in an error or a different result.\n",
      "  return np.add.reduce(sorted[indexer] * weights, axis=axis) / sumval\n",
      "/optnfs/el7/jupyterhub/envs/Psych81.09/lib/python3.6/site-packages/seaborn/axisgrid.py:1847: UserWarning: JointGrid annotation is deprecated and will be removed in a future release.\n",
      "  warnings.warn(UserWarning(msg))\n"
     ]
    },
    {
     "data": {
      "text/plain": [
       "<seaborn.axisgrid.JointGrid at 0x2b21d3bb88d0>"
      ]
     },
     "execution_count": 15,
     "metadata": {},
     "output_type": "execute_result"
    },
    {
     "data": {
      "image/png": "[encoded data removed]",
      "text/plain": [
       "<Figure size 432x432 with 3 Axes>"
      ]
     },
     "metadata": {
      "needs_background": "light"
     },
     "output_type": "display_data"
    }
   ],
   "source": [
    "sns.jointplot(cost_gain['COST'], cost_gain['AMOUNT'], kind='reg', stat_func=pearsonr,\n",
    "              xlim=(-5,100), ylim=(-100,1200))"
   ]
  },
  {
   "cell_type": "markdown",
   "metadata": {},
   "source": [
    "# The 1000-dollar point is a single, huge donation"
   ]
  },
  {
   "cell_type": "code",
   "execution_count": 16,
   "metadata": {},
   "outputs": [],
   "source": [
    "# try removing it\n",
    "dunc_dropped = cost_gain.drop(7)"
   ]
  },
  {
   "cell_type": "code",
   "execution_count": 17,
   "metadata": {},
   "outputs": [
    {
     "name": "stderr",
     "output_type": "stream",
     "text": [
      "/optnfs/el7/jupyterhub/envs/Psych81.09/lib/python3.6/site-packages/seaborn/axisgrid.py:1847: UserWarning: JointGrid annotation is deprecated and will be removed in a future release.\n",
      "  warnings.warn(UserWarning(msg))\n"
     ]
    },
    {
     "data": {
      "text/plain": [
       "<seaborn.axisgrid.JointGrid at 0x2b21d3d8f860>"
      ]
     },
     "execution_count": 17,
     "metadata": {},
     "output_type": "execute_result"
    },
    {
     "data": {
      "image/png": "[encoded data removed]",
      "text/plain": [
       "<Figure size 432x432 with 3 Axes>"
      ]
     },
     "metadata": {
      "needs_background": "light"
     },
     "output_type": "display_data"
    }
   ],
   "source": [
    "sns.jointplot(dunc_dropped['COST'], dunc_dropped['AMOUNT'], kind='reg', stat_func=pearsonr, \n",
    "              xlim=(-5,100), ylim=(-10,400))"
   ]
  }
 ],
 "metadata": {
  "kernelspec": {
   "display_name": "Psych 81.09",
   "language": "python",
   "name": "psych81.09"
  },
  "language_info": {
   "codemirror_mode": {
    "name": "ipython",
    "version": 3
   },
   "file_extension": ".py",
   "mimetype": "text/x-python",
   "name": "python",
   "nbconvert_exporter": "python",
   "pygments_lexer": "ipython3",
   "version": "3.6.8"
  }
 },
 "nbformat": 4,
 "nbformat_minor": 2
}
