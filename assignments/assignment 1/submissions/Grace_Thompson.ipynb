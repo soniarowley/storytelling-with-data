{
 "cells": [
  {
   "cell_type": "markdown",
   "metadata": {},
   "source": [
    "## My Function Information  \n",
    "\n",
    "**Arguments needed to pass to the function**    \n",
    "cinnamon is an argument needed to pass to special_item in the function  \n",
    "**Supported values**  \n",
    "values include the number of portions, and the quantity calculator  \n",
    "**What the function does**  \n",
    "1. imports _numpy_ and creates an array\n",
    "2. _defines a function_ that outlines the ingredients to make apple crisp\n",
    "3. uses an _input argument_ to define an optional ingredient\n",
    "4. uses _return value_ for adjusting portion size\n",
    "5. _lists_ ingredients used in the crust, and uses a _for loop_ to print the ingredients\n",
    "6. uses an _if block_ to print the serving size \n",
    "7. uses a _while loop_ and _else block_ to say \"enjoy\" and \"bon apetit\"\n",
    "8. a cell runs function on sample input and prints result\n",
    "\n",
    "**What gets returned**  \n",
    "In cell 7, the quantity is what get returned"
   ]
  },
  {
   "cell_type": "code",
   "execution_count": 1,
   "metadata": {
    "scrolled": true
   },
   "outputs": [],
   "source": [
    "import numpy as np\n",
    "myarray = np.array([[1,2,3],[4,5,6],[7,8,9]])"
   ]
  },
  {
   "cell_type": "code",
   "execution_count": 2,
   "metadata": {},
   "outputs": [
    {
     "data": {
      "text/plain": [
       "array([[1, 2, 3],\n",
       "       [4, 5, 6],\n",
       "       [7, 8, 9]])"
      ]
     },
     "execution_count": 2,
     "metadata": {},
     "output_type": "execute_result"
    }
   ],
   "source": [
    "myarray"
   ]
  },
  {
   "cell_type": "code",
   "execution_count": 3,
   "metadata": {},
   "outputs": [
    {
     "data": {
      "text/plain": [
       "(3, 3)"
      ]
     },
     "execution_count": 3,
     "metadata": {},
     "output_type": "execute_result"
    }
   ],
   "source": [
    "np.shape(myarray)"
   ]
  },
  {
   "cell_type": "code",
   "execution_count": 9,
   "metadata": {},
   "outputs": [],
   "source": [
    "def grocery_shopping(special_item):   # defines python function\n",
    "    print(\"apples\")\n",
    "    print(\"brown sugar\")\n",
    "    print(\"oats\")\n",
    "    print(\"butter\")\n",
    "    print(\"optional: \" + special_item)"
   ]
  },
  {
   "cell_type": "code",
   "execution_count": 8,
   "metadata": {},
   "outputs": [
    {
     "name": "stdout",
     "output_type": "stream",
     "text": [
      "apples\n",
      "brown sugar\n",
      "oats\n",
      "butter\n",
      "optional: cinnamon\n"
     ]
    }
   ],
   "source": [
    "# call grocery_shopping() below:\n",
    "grocery_shopping(\"cinnamon\")      #input argument"
   ]
  },
  {
   "cell_type": "code",
   "execution_count": 7,
   "metadata": {},
   "outputs": [
    {
     "name": "stdout",
     "output_type": "stream",
     "text": [
      "to make a half recipe, divide ingredients by two, eg. 4 cups divided by 2 is 2.0!\n"
     ]
    }
   ],
   "source": [
    "def calculate_quantity(current_amount, portion_size):    #return values\n",
    "    quantity = current_amount / portion_size\n",
    "    return quantity\n",
    "oats_quantity = calculate_quantity(4, 2)\n",
    "print(\"to make a half recipe, divide ingredients by two, eg. 4 cups divided by 2 is \"+str(oats_quantity) + \"!\")"
   ]
  },
  {
   "cell_type": "code",
   "execution_count": 11,
   "metadata": {},
   "outputs": [
    {
     "name": "stdout",
     "output_type": "stream",
     "text": [
      "brown sugar, oats, ‘butter\n"
     ]
    }
   ],
   "source": [
    "crust_ingredients = ['brown sugar, oats, ‘butter']   # list\n",
    "for ingredient in crust_ingredients:     #for loop\n",
    "    print(ingredient)"
   ]
  },
  {
   "cell_type": "code",
   "execution_count": 17,
   "metadata": {},
   "outputs": [
    {
     "name": "stdout",
     "output_type": "stream",
     "text": [
      "5 servings of apple crisp\n",
      "enjoy!\n",
      "enjoy!\n",
      "bon apetit\n"
     ]
    }
   ],
   "source": [
    "num = 5\n",
    "if num > 0:\n",
    "    print (num, \"servings of apple crisp\")\n",
    "\n",
    "counter = 0\n",
    "while counter < 2:\n",
    "    print(\"enjoy!\")\n",
    "    counter = counter + 1\n",
    "else:\n",
    "    print(\"bon apetit\")"
   ]
  },
  {
   "cell_type": "code",
   "execution_count": null,
   "metadata": {},
   "outputs": [],
   "source": []
  },
  {
   "cell_type": "code",
   "execution_count": null,
   "metadata": {},
   "outputs": [],
   "source": []
  }
 ],
 "metadata": {
  "kernelspec": {
   "display_name": "Psych 81.09",
   "language": "python",
   "name": "psych81.09"
  },
  "language_info": {
   "codemirror_mode": {
    "name": "ipython",
    "version": 3
   },
   "file_extension": ".py",
   "mimetype": "text/x-python",
   "name": "python",
   "nbconvert_exporter": "python",
   "pygments_lexer": "ipython3",
   "version": "3.6.8"
  }
 },
 "nbformat": 4,
 "nbformat_minor": 2
}
