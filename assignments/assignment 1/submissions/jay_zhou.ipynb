{
 "cells": [
  {
   "cell_type": "markdown",
   "metadata": {},
   "source": [
    "# Assignment 1\n",
    "Jay Zhou\n",
    "April 1, 2019"
   ]
  },
  {
   "cell_type": "code",
   "execution_count": 1,
   "metadata": {},
   "outputs": [],
   "source": [
    "import math as m #imports math library to check the accuracy of my base-two calculator\n",
    "import pandas as p #imports pandas library "
   ]
  },
  {
   "cell_type": "markdown",
   "metadata": {},
   "source": [
    "## Base-two Calculator\n",
    "\n",
    "#This function takes in a list of integers and calculates the **log2(x)**, or log base 2, result of each integer. For each even integer, the function divides it by two until the remainder is no longer equal to zero, while keeping count of each division that was executed. If the **dividend** of the final division is 1, then the calculator has found the correct result. Otherwise, the original integer was not a proper exponent of 2, so the calculator produces a rounded estimation.\n",
    "\n",
    "#For each integer in the inputted list, the function appends an output value to an empty list. The function **returns** a list filled with calculated values or an error message noting that the integer was not an even number.\n",
    "\n",
    "\n",
    "### Arguments and Values Supported\n",
    "\n",
    "#The argument inputted into the function should be a list of non-zero, even integers. The function checks whether each individual item of the list is an even number, and it also accommodates even integers that are not actual exponents of 2. However, I could not fully implement the log base 2 calculation of non-integer results because that requires more than simply dividing by 2 -- this feature could be something to think about in the future.  \n",
    "\n"
   ]
  },
  {
   "cell_type": "code",
   "execution_count": 2,
   "metadata": {},
   "outputs": [],
   "source": [
    "def basetwo_calculator(even_ints): #function that takes in a list of integers\n",
    "    basetwo_output = []\n",
    "    \n",
    "    for ints in even_ints: #loop through the list of inputted numbers\n",
    "        if ((ints != 0) and ((ints % 2) == 0)): #perform this while loop if the number is a non-zero even integer \n",
    "            count = 0 \n",
    "            while (ints % 2) == 0: #loop until the integer no longer produces a remainer of zero when divided by two \n",
    "                ints /= 2 #divide the integer by 2\n",
    "                count += 1 #add 1 to the counter\n",
    "            if ints == 1: #if the integer has been divided to 1, we've found the correct answer\n",
    "                ints = count\n",
    "            else: #otherwise, we must continue dividing until the dividend is less than 1...for even numbers that are not exponents of 2\n",
    "                while (ints / 2) > 1:\n",
    "                    ints /= 2 #divide the number by 2\n",
    "                    count += 1 #add 1 to the counter\n",
    "                ints = str(count) + \" rounded down\" \n",
    "        else:\n",
    "            ints = \"Not an even integer\"\n",
    "        \n",
    "        #add the result of the counter to the list, regardless of even integer or not\n",
    "        basetwo_output.append(ints)\n",
    "        \n",
    "    return basetwo_output"
   ]
  },
  {
   "cell_type": "code",
   "execution_count": 3,
   "metadata": {
    "scrolled": true
   },
   "outputs": [
    {
     "name": "stdout",
     "output_type": "stream",
     "text": [
      "['Not an even integer', 1, 3, 5, '4 rounded down', '6 rounded down']\n"
     ]
    }
   ],
   "source": [
    "test_list = [3, 2, 8, 32, 30, 70]\n",
    "test_output = basetwo_calculator(test_list)\n",
    "print(test_output)"
   ]
  },
  {
   "cell_type": "code",
   "execution_count": 4,
   "metadata": {},
   "outputs": [
    {
     "data": {
      "text/plain": [
       "6.129283016944966"
      ]
     },
     "execution_count": 4,
     "metadata": {},
     "output_type": "execute_result"
    }
   ],
   "source": [
    "m.log2(32) #check the math!\n",
    "m.log2(30)\n",
    "m.log2(70)"
   ]
  }
 ],
 "metadata": {
  "kernelspec": {
   "display_name": "Psych 81.09",
   "language": "python",
   "name": "psych81.09"
  },
  "language_info": {
   "codemirror_mode": {
    "name": "ipython",
    "version": 3
   },
   "file_extension": ".py",
   "mimetype": "text/x-python",
   "name": "python",
   "nbconvert_exporter": "python",
   "pygments_lexer": "ipython3",
   "version": "3.6.8"
  }
 },
 "nbformat": 4,
 "nbformat_minor": 2
}
