{
 "cells": [
  {
   "cell_type": "code",
   "execution_count": 4,
   "metadata": {},
   "outputs": [],
   "source": [
    "import math"
   ]
  },
  {
   "cell_type": "markdown",
   "metadata": {},
   "source": [
    "My function defines the output of different x values depending on the range of the inputs. In my function, function(x) is equal 0 at point x = 0. Function(x) is equal to 2 at point x = 1. Then, when 1 < x < 4 (x = 2 and x = 3), function(x) is equal to x^2. Beyond the range of x = 0-3, my function is equal to x/2. Each qualifying statement in the function (if/elif/else) defines what gets returned. For example, if someone enters 2 into my equation, they will get 4 because the return, according to the \"while\" statement, is x^2. However, if someone enters 5, the return value would be 2.5 because of the \"else\" statement (x/2). The user simply has to enter an x value in the statement print(function(<x>)) to get a return from the function, and any rational number should be supported in this function."
   ]
  },
  {
   "cell_type": "code",
   "execution_count": 295,
   "metadata": {},
   "outputs": [],
   "source": [
    "def function(x):\n",
    "    if x==0:\n",
    "        return 0\n",
    "    elif x==1:\n",
    "        return 2\n",
    "    while 1 < x < 4:\n",
    "        return x ** 2\n",
    "    for x in ('6','7','8'):\n",
    "        print (x)\n",
    "    else:\n",
    "        return x / 2\n",
    "    \n",
    "    \n",
    "\n"
   ]
  },
  {
   "cell_type": "code",
   "execution_count": 298,
   "metadata": {},
   "outputs": [
    {
     "name": "stdout",
     "output_type": "stream",
     "text": [
      "0\n"
     ]
    }
   ],
   "source": [
    "print(function(0))"
   ]
  },
  {
   "cell_type": "code",
   "execution_count": 299,
   "metadata": {},
   "outputs": [
    {
     "name": "stdout",
     "output_type": "stream",
     "text": [
      "2\n"
     ]
    }
   ],
   "source": [
    "print(function(1))"
   ]
  },
  {
   "cell_type": "code",
   "execution_count": 300,
   "metadata": {},
   "outputs": [
    {
     "name": "stdout",
     "output_type": "stream",
     "text": [
      "9\n"
     ]
    }
   ],
   "source": [
    "print(function(3))"
   ]
  },
  {
   "cell_type": "code",
   "execution_count": 301,
   "metadata": {},
   "outputs": [
    {
     "name": "stdout",
     "output_type": "stream",
     "text": [
      "2.0\n"
     ]
    }
   ],
   "source": [
    "print(function(4))"
   ]
  },
  {
   "cell_type": "code",
   "execution_count": 302,
   "metadata": {},
   "outputs": [
    {
     "name": "stdout",
     "output_type": "stream",
     "text": [
      "2.5\n"
     ]
    }
   ],
   "source": [
    "print(function(5))"
   ]
  },
  {
   "cell_type": "code",
   "execution_count": 303,
   "metadata": {},
   "outputs": [
    {
     "name": "stdout",
     "output_type": "stream",
     "text": [
      "3.0\n"
     ]
    }
   ],
   "source": [
    "print(function(6))"
   ]
  },
  {
   "cell_type": "markdown",
   "metadata": {},
   "source": [
    "Although I was able to figure out the \"while,\" I struggled with the list and the \"for\" function. I was trying to make the function just print (x) in the list [6, 7, 8], but the code runs the \"else\" function for 6,7,8, which is x/2. For about 2 hours, I tried playing around with the order of my code, looking at the \"Intro to python,\" searching the internet for information about for and while loops, and turning to a classmate (Morgan Sizemore) to see if she could help. At first, I thought the \"for\" function had to be on its own, because it seems like an exception. I played around with the indentation of the for in relation to the function as a whole, but that just made the other parts of the functions fail. In my internet search, I realized that \"else\" only ran when the lines above weren't true and therefore didn't run, so I tried moving else below \"for.\" That still didn't work. I tried looking up other examples of for functions to see if I was formatting mine incorrectly, but I don't know where in the function I went wrong, because nothing I tried seemed to work. Some of the formats online incorporated things like range(x,y) and writing \"return\" instead of \"print.\" I also tried to play around with the contents of the list and the print output in the \"for\" function, because I suspected I didn't understand how the terms in the \"for\" line of code related to the rest of the function. For example, I tried changing the range and having the for function print text (yay!) instead of \"x,\" and I kept getting error messages. Neither of these tactics worked properly in the function. "
   ]
  }
 ],
 "metadata": {
  "kernelspec": {
   "display_name": "Python 3",
   "language": "python",
   "name": "python3"
  },
  "language_info": {
   "codemirror_mode": {
    "name": "ipython",
    "version": 3
   },
   "file_extension": ".py",
   "mimetype": "text/x-python",
   "name": "python",
   "nbconvert_exporter": "python",
   "pygments_lexer": "ipython3",
   "version": "3.7.3"
  }
 },
 "nbformat": 4,
 "nbformat_minor": 2
}
