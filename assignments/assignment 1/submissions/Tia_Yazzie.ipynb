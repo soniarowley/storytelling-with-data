{
 "cells": [
  {
   "cell_type": "code",
   "execution_count": 1,
   "metadata": {},
   "outputs": [],
   "source": [
    "import pandas"
   ]
  },
  {
   "cell_type": "code",
   "execution_count": 2,
   "metadata": {},
   "outputs": [
    {
     "name": "stdout",
     "output_type": "stream",
     "text": [
      "OOH so yummy!\n",
      "Spam in burrito is the best!\n",
      "Spam in eggs is the best!\n",
      "Spam in sandwich is the best!\n",
      "Great meal!\n",
      "Great meal!\n",
      "Great meal!\n",
      "Great meal!\n",
      "Great meal!\n",
      "Great meal!\n",
      "Great meal!\n",
      "Great meal!\n",
      "Great meal!\n",
      "Great meal!\n",
      "Great meal!\n",
      "Great meal!\n"
     ]
    }
   ],
   "source": [
    "#cell that defines my Python function \n",
    "fav_food = 'spam'\n",
    "\n",
    "if fav_food == 'spam': #fulfills the if/elif/else requirement \n",
    "    print(\"OOH so yummy!\")\n",
    "elif fav_food == 'grilled onions':\n",
    "    print('That is so nasty.')\n",
    "else:\n",
    "    print('I don\\'t care what you eat.')\n",
    "    \n",
    "for spam in ['burrito', 'eggs', 'sandwich']: #uses the for loop and uses a list \n",
    "    food_type = \"Spam in \" + spam + \" is the best!\"\n",
    "    print(food_type)\n",
    "    \n",
    "fav_food = 'spam'\n",
    "i = 0\n",
    "while fav_food == 'spam': #fulfills the while loop requirement\n",
    "    print(\"Great meal!\")\n",
    "    if i > 10:\n",
    "        fav_food = 'eggs'\n",
    "    i = i + 1"
   ]
  },
  {
   "cell_type": "markdown",
   "metadata": {},
   "source": [
    "# Describes what the function does\n",
    "1. What arguments the user needs to pass the function:\n",
    "    - the types of arguments the user needs to pass the if/elif/else function is to declare the variable of fav_food and give it a value. Then it needs 6 lines of code to pass the function and a print function to spit out the return value. Secondly, in order to pass the function of the for loop and while loop, the function must have a value also and variable declared.  \n",
    "2. What values are supported: \n",
    "    - The values of fav_food are supported by non-numerical variables and the same goes for the list. \n",
    "3. What the function does: \n",
    "    - The function is declaring my favorite food spam and saying which types of meals it is best in and declaring that this is greatest meal ever. This is a non-numerical function in which uses the if/elif/else, for, and while functions and loops. \n",
    "4.\tWhat gets returned: The return values are below. \n",
    "OOH so yummy! \n",
    "Spam in burritos is the best! \n",
    "Spam in eggs is the best! \n",
    "Spam in sandwich is the best! \n",
    "Greatest meal ever!\n",
    "Greatest meal ever!\n",
    "Greatest meal ever!\n",
    "Greatest meal ever!\n",
    "Greatest meal ever!"
   ]
  },
  {
   "cell_type": "code",
   "execution_count": null,
   "metadata": {},
   "outputs": [],
   "source": []
  }
 ],
 "metadata": {
  "kernelspec": {
   "display_name": "Psych 81.09",
   "language": "python",
   "name": "psych81.09"
  },
  "language_info": {
   "codemirror_mode": {
    "name": "ipython",
    "version": 3
   },
   "file_extension": ".py",
   "mimetype": "text/x-python",
   "name": "python",
   "nbconvert_exporter": "python",
   "pygments_lexer": "ipython3",
   "version": "3.6.8"
  }
 },
 "nbformat": 4,
 "nbformat_minor": 2
}
