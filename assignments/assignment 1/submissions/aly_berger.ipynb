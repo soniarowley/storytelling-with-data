{
 "cells": [
  {
   "cell_type": "code",
   "execution_count": 8,
   "metadata": {},
   "outputs": [],
   "source": [
    "import numpy as ny"
   ]
  },
  {
   "cell_type": "markdown",
   "metadata": {},
   "source": [
    "### Assignment 1 - Aly Berger\n",
    "#### Function - Student Grades\n",
    "\n",
    "The function takes two corresponding lists, that of students' names and their numerical grades, and \n",
    "prints student names with their corresponding letter grades. The function also returns an integer of how many students have a C or higher.\n",
    "\n",
    "Arguments:  \n",
    " * list of strings containing student names\n",
    " * list of numerical grades (int or float, ideally b/w 0 and 100)\n",
    "  * _Note: the items in each list correspond (ie. if first item in names is \"Mary\" and first item in grades is 40, then Mary has a 40 in the class)_"
   ]
  },
  {
   "cell_type": "code",
   "execution_count": 4,
   "metadata": {},
   "outputs": [],
   "source": [
    "def letter_grades(names,grades):\n",
    "\n",
    "    # empty list to store letter grades\n",
    "    let_grades = []\n",
    "\n",
    "    # use numerical grades to create list of letter grades\n",
    "    for i in grades:\n",
    "        if i < 0:\n",
    "            lg = \"?\"\n",
    "        elif i < 60:\n",
    "            lg = \"F\"\n",
    "        elif i < 70:\n",
    "            lg = \"D\"\n",
    "        elif i < 80:\n",
    "            lg = \"C\"\n",
    "        elif i < 90:\n",
    "            lg = \"B\"\n",
    "        elif i <= 100:\n",
    "            lg = \"A\"\n",
    "        else:\n",
    "            lg = \"?\"\n",
    "\n",
    "        let_grades.append(lg)\n",
    "\n",
    "\n",
    "    c = 0\n",
    "\n",
    "    # print names and letter grades\n",
    "    while c < len(names):\n",
    "        print(names[c]+\" - \"+let_grades[c])\n",
    "        c += 1\n",
    "\n",
    "    x = 0\n",
    "\n",
    "    # return x--how many students have above a c\n",
    "    for j in grades:\n",
    "        if j >= 70 and j <= 100:\n",
    "            x += 1\n",
    "\n",
    "    return x\n"
   ]
  },
  {
   "cell_type": "code",
   "execution_count": 7,
   "metadata": {
    "scrolled": true
   },
   "outputs": [
    {
     "name": "stdout",
     "output_type": "stream",
     "text": [
      "Mary - F\n",
      "Lisa - B\n",
      "Aly - C\n",
      "Rebecca - F\n",
      "Chris - A\n",
      "Emma - ?\n",
      "--------------\n",
      "3 students have a C or higher\n"
     ]
    }
   ],
   "source": [
    "names = [\"Mary\", \"Lisa\", \"Aly\", \"Rebecca\", \"Chris\", \"Emma\"]\n",
    "grades = [34,89,75,45,92,650]\n",
    "\n",
    "passing = letter_grades(names,grades)\n",
    "\n",
    "print(\"--------------\")\n",
    "print(str(passing)+\" students have a C or higher\")"
   ]
  },
  {
   "cell_type": "code",
   "execution_count": null,
   "metadata": {},
   "outputs": [],
   "source": []
  }
 ],
 "metadata": {
  "kernelspec": {
   "display_name": "Psych 81.09",
   "language": "python",
   "name": "psych81.09"
  },
  "language_info": {
   "codemirror_mode": {
    "name": "ipython",
    "version": 3
   },
   "file_extension": ".py",
   "mimetype": "text/x-python",
   "name": "python",
   "nbconvert_exporter": "python",
   "pygments_lexer": "ipython3",
   "version": "3.6.8"
  }
 },
 "nbformat": 4,
 "nbformat_minor": 2
}
