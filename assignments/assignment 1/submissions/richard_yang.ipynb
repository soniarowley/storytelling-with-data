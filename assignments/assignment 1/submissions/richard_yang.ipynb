{
 "cells": [
  {
   "cell_type": "markdown",
   "metadata": {},
   "source": [
    "### Latin honors categorizer / pipe dreaming\n",
    "\n",
    "The latin_honors() function categorizes GPAs into the appropriate Dartmouth Latin honors group.\n",
    "\n",
    "The argument the function uses is a list of GPAs expressed as floats. The example above uses a randomly generated and normally distributed list, so it may have implausible GPAs.\n",
    "\n",
    "Each GPA in the list is categorized into the appropriate honors group and the list is then sorted in descending order. The number of GPAs in each group is returned at the end of the function."
   ]
  },
  {
   "cell_type": "code",
   "execution_count": 31,
   "metadata": {},
   "outputs": [],
   "source": [
    "#imports numpy\n",
    "import numpy as np"
   ]
  },
  {
   "cell_type": "code",
   "execution_count": 47,
   "metadata": {},
   "outputs": [],
   "source": [
    "def latin_honors(gpa_list):\n",
    "\n",
    "  #category thresholds\n",
    "  summa = 3.92\n",
    "  magna = 3.82\n",
    "  cumlaude = 3.68\n",
    "\n",
    "  #count for each category\n",
    "  num_summa = 0\n",
    "  num_magna = 0\n",
    "  num_cumlaude = 0\n",
    "  num_none = 0\n",
    "\n",
    "  #list of GPAs for each category\n",
    "  summa_list = []\n",
    "  magna_list = []\n",
    "  cumlaude_list = []\n",
    "  none_list = []\n",
    "  \n",
    "  #goes through list of GPAs and adds them to the appropriate list, then sorts them in descending order\n",
    "  for gpa in gpa_list:\n",
    "    if gpa >= summa:\n",
    "      summa_list.append(gpa)\n",
    "      summa_list = sorted(summa_list, reverse=True)\n",
    "      num_summa += 1\n",
    "    elif summa > gpa >= magna:\n",
    "      magna_list.append(gpa)\n",
    "      magna_list = sorted(magna_list, reverse=True)\n",
    "      num_magna += 1\n",
    "    elif magna > gpa >= cumlaude:\n",
    "      cumlaude_list.append(gpa)\n",
    "      cumlaude_list = sorted(cumlaude_list, reverse=True)      \n",
    "      num_cumlaude += 1\n",
    "    else:\n",
    "      none_list.append(gpa)\n",
    "      none_list = sorted(none_list, reverse=True)\n",
    "      num_none += 1\n",
    "\n",
    "  #prints each GPA and its category\n",
    "  i = 0\n",
    "  while i < len(summa_list):\n",
    "    print(summa_list[i], \"is summa cum laude\")\n",
    "    i += 1\n",
    "\n",
    "  j = 0\n",
    "  while j < len(magna_list):\n",
    "    print(magna_list[j], \"is magna cum laude\")\n",
    "    j += 1\n",
    "\n",
    "  k = 0\n",
    "  while k < len(cumlaude_list):\n",
    "    print(cumlaude_list[k], \"is cum laude\")\n",
    "    k += 1\n",
    "\n",
    "  l = 0\n",
    "  while l < len(none_list):\n",
    "    print(none_list[l], \"is no honors\")\n",
    "    l += 1\n",
    "\n",
    "  #returns the total number of GPAs in each category\n",
    "  return \"The total number of students graduating summa cum laude is\", num_summa, \", with manga cum laude is\", num_magna, \", with cum laude is\", num_cumlaude, \", and with no honors is\", num_none , \".\"\n",
    "\n"
   ]
  },
  {
   "cell_type": "code",
   "execution_count": 53,
   "metadata": {
    "scrolled": true
   },
   "outputs": [
    {
     "name": "stdout",
     "output_type": "stream",
     "text": [
      "4.05 is summa cum laude\n",
      "3.86 is magna cum laude\n",
      "3.81 is cum laude\n",
      "3.68 is cum laude\n",
      "3.52 is no honors\n",
      "3.47 is no honors\n",
      "3.37 is no honors\n",
      "3.34 is no honors\n",
      "3.28 is no honors\n",
      "3.22 is no honors\n",
      "3.09 is no honors\n",
      "3.06 is no honors\n",
      "2.91 is no honors\n",
      "2.89 is no honors\n",
      "2.88 is no honors\n",
      "2.59 is no honors\n",
      "2.25 is no honors\n",
      "2.11 is no honors\n",
      "1.97 is no honors\n",
      "1.93 is no honors\n",
      "('The total number of students graduating summa cum laude is', 1, ', with manga cum laude is', 1, ', with cum laude is', 2, ', and with no honors is', 16, '.')\n"
     ]
    }
   ],
   "source": [
    "#generates a random set of 20 normally distributed GPAs with a mean of 3.0 and std. dev. of 0.5\n",
    "random_class = np.random.normal(3, 0.5, size = 20)\n",
    "\n",
    "#rounds generated GPAs to 2 decimal places\n",
    "rounded_class = np.round(random_class, 2)\n",
    "\n",
    "#runs the program using the above generated GPAs\n",
    "latin_class = latin_honors(rounded_class)\n",
    "print(latin_class)\n"
   ]
  },
  {
   "cell_type": "code",
   "execution_count": null,
   "metadata": {},
   "outputs": [],
   "source": []
  }
 ],
 "metadata": {
  "kernelspec": {
   "display_name": "Psych 81.09",
   "language": "python",
   "name": "psych81.09"
  },
  "language_info": {
   "codemirror_mode": {
    "name": "ipython",
    "version": 3
   },
   "file_extension": ".py",
   "mimetype": "text/x-python",
   "name": "python",
   "nbconvert_exporter": "python",
   "pygments_lexer": "ipython3",
   "version": "3.6.8"
  }
 },
 "nbformat": 4,
 "nbformat_minor": 2
}
