{
 "cells": [
  {
   "cell_type": "markdown",
   "metadata": {},
   "source": [
    "I created a function named \"my_function\" that takes the input arguments \"school\" and \"admission_rate\". Running the function creates the lists \"goodschools\" and \"admissions_rates\" and then prints a table of the goodschools list using a pandas data frame. \n",
    "\n",
    "The function then runs a for loop that runs through the goodschools list and for each item in the list prints \"goodschools[i] is an ivy league school\". \n",
    "\n",
    "The function also runs a while loop that runs through the list and prints \"goodschools[i] is the best school\" if goodschools[i] is \"Dartmouth\". Lastly the function appends a school to the goodschools list and appends the school's admissions rate to the admissions_rates list, respectively given by the input arguments supplied. \n",
    "\n",
    "Lastly, the function prints another table of new goodschools list and admissions rates. \n",
    "\n",
    "The function supports strings as input and returns a printout of ivy league schools, followed by the statements \"goodschools[i] is an ivy leageu school\" for all i, followed by the statement \"Dartmouth is the best school,\" followed by a table of goodschools and admissions_rates.\n"
   ]
  },
  {
   "cell_type": "code",
   "execution_count": 43,
   "metadata": {},
   "outputs": [],
   "source": [
    "import pandas as pd "
   ]
  },
  {
   "cell_type": "code",
   "execution_count": 65,
   "metadata": {},
   "outputs": [],
   "source": [
    "def my_function(school, admission_rate):\n",
    "    \n",
    "    #create list \n",
    "    goodschools = [\"Dartmouth\",\"Penn\",\"Cornell\",\"Columbia\",\"Brown\",\"Princeton\", \"Yale\",\"Harvard\"]\n",
    "    admissions_rates =  [8.7,8.4,10.3,5.5,7.2,5.5,6.3,4.6]\n",
    "    new_dataframe = pd.DataFrame({\n",
    "        \"ivy league\": goodschools})\n",
    "    \n",
    "    print(new_dataframe)\n",
    "    #use for loop to go through all values in list and print and concatenate string\n",
    "    for x in goodschools:\n",
    "        print(x + \" is an ivy league school\")\n",
    "   \n",
    "    #use a while loop to to go through all values in list \n",
    "    #use embedded if statement to print and concatenate a string for a given value in the list\n",
    "\n",
    "    i = 0\n",
    "    while i < len(goodschools):\n",
    "        if goodschools[i] == \"Dartmouth\":\n",
    "            print(goodschools[i] + \" is the best school\")\n",
    "        i = i + 1\n",
    " \n",
    "    #append a new school to the list           \n",
    "    goodschools.append(school)\n",
    "    admissions_rates.append(admission_rate)\n",
    "    \n",
    "    #display the new list \n",
    "    new_dataframe = pd.DataFrame({\n",
    "        \"good schools\": goodschools,\n",
    "        \"admissions rate\": admissions_rates})\n",
    "    \n",
    "    print(new_dataframe)\n",
    "    \n",
    "    "
   ]
  },
  {
   "cell_type": "code",
   "execution_count": 66,
   "metadata": {},
   "outputs": [
    {
     "name": "stdout",
     "output_type": "stream",
     "text": [
      "  ivy league\n",
      "0  Dartmouth\n",
      "1       Penn\n",
      "2    Cornell\n",
      "3   Columbia\n",
      "4      Brown\n",
      "5  Princeton\n",
      "6       Yale\n",
      "7    Harvard\n",
      "Dartmouth is an ivy league school\n",
      "Penn is an ivy league school\n",
      "Cornell is an ivy league school\n",
      "Columbia is an ivy league school\n",
      "Brown is an ivy league school\n",
      "Princeton is an ivy league school\n",
      "Yale is an ivy league school\n",
      "Harvard is an ivy league school\n",
      "Dartmouth is the best school\n",
      "   admissions rate good schools\n",
      "0              8.7    Dartmouth\n",
      "1              8.4         Penn\n",
      "2             10.3      Cornell\n",
      "3              5.5     Columbia\n",
      "4              7.2        Brown\n",
      "5              5.5    Princeton\n",
      "6              6.3         Yale\n",
      "7              4.6      Harvard\n",
      "8              5.0     Stanford\n"
     ]
    }
   ],
   "source": [
    "my_function(\"Stanford\", 5)\n"
   ]
  }
 ],
 "metadata": {
  "kernelspec": {
   "display_name": "Psych 81.09",
   "language": "python",
   "name": "psych81.09"
  },
  "language_info": {
   "codemirror_mode": {
    "name": "ipython",
    "version": 3
   },
   "file_extension": ".py",
   "mimetype": "text/x-python",
   "name": "python",
   "nbconvert_exporter": "python",
   "pygments_lexer": "ipython3",
   "version": "3.6.8"
  }
 },
 "nbformat": 4,
 "nbformat_minor": 2
}
