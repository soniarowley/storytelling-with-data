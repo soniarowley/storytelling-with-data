{
 "cells": [
  {
   "cell_type": "code",
   "execution_count": 2,
   "metadata": {},
   "outputs": [],
   "source": [
    "from pandas import *"
   ]
  },
  {
   "cell_type": "code",
   "execution_count": 57,
   "metadata": {},
   "outputs": [],
   "source": [
    "the_important_factors = []"
   ]
  },
  {
   "cell_type": "code",
   "execution_count": 58,
   "metadata": {},
   "outputs": [],
   "source": [
    "def meaning_of_life(x , y):\n",
    "\n",
    "    if x < 6:\n",
    "        while x < 6:\n",
    "            print (x)\n",
    "            x = x + 1\n",
    "    elif x > 6:\n",
    "        while x > 6:\n",
    "            print (x)\n",
    "            x = x - 1\n",
    "    the_important_factors.append(x)\n",
    "        \n",
    "    if y < 9:\n",
    "        while y < 9:\n",
    "            print (y)\n",
    "            y = y + 1\n",
    "    elif y > 9:\n",
    "        while y > 9:\n",
    "            print (y)\n",
    "            y = y - 1\n",
    "    \n",
    "    the_important_factors.append(y)\n",
    "    \n",
    "    for x in the_important_factors:\n",
    "        print (x)\n"
   ]
  },
  {
   "cell_type": "code",
   "execution_count": 59,
   "metadata": {},
   "outputs": [
    {
     "name": "stdout",
     "output_type": "stream",
     "text": [
      "1\n",
      "2\n",
      "3\n",
      "4\n",
      "5\n",
      "20\n",
      "19\n",
      "18\n",
      "17\n",
      "16\n",
      "15\n",
      "14\n",
      "13\n",
      "12\n",
      "11\n",
      "10\n",
      "6\n",
      "9\n"
     ]
    }
   ],
   "source": [
    "meaning_of_life(1, 20)"
   ]
  },
  {
   "cell_type": "code",
   "execution_count": 66,
   "metadata": {},
   "outputs": [
    {
     "name": "stdout",
     "output_type": "stream",
     "text": [
      "6 multiplied by 9 is the meaning of life\n"
     ]
    }
   ],
   "source": [
    "print (str(the_important_factors[0]) + (\" multiplied by \") + str(the_important_factors[1]) + (\" is the meaning of life\"))"
   ]
  },
  {
   "cell_type": "code",
   "execution_count": null,
   "metadata": {},
   "outputs": [],
   "source": []
  }
 ],
 "metadata": {
  "kernelspec": {
   "display_name": "Psych 81.09",
   "language": "python",
   "name": "psych81.09"
  },
  "language_info": {
   "codemirror_mode": {
    "name": "ipython",
    "version": 3
   },
   "file_extension": ".py",
   "mimetype": "text/x-python",
   "name": "python",
   "nbconvert_exporter": "python",
   "pygments_lexer": "ipython3",
   "version": "3.6.8"
  }
 },
 "nbformat": 4,
 "nbformat_minor": 2
}
