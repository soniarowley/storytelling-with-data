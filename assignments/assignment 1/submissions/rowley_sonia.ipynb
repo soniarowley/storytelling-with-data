{
 "cells": [
  {
   "cell_type": "markdown",
   "metadata": {},
   "source": [
    "### Assignment 1\n",
    "\n",
    "This function passes two arguments: an integer x-coordinate and an integer y-coordinate.\n",
    "\n",
    "The first part of this function returns the quadrant that the XY coordinates are located in. This part of the function uses an `if` / `elif` / `else` block and supports two input arguments. Its output is in the form:\n",
    "\n",
    "    Point 1 lies in quadrant X.\n",
    "\n",
    "OR, if one of the coordinates == 0:\n",
    "\n",
    "    Point 1 lies on an axis.\n",
    "\n",
    "The second part my function doesn't work. I tried to use a `while` loop and the `random.randint()` function to generate three random XY coordinates and return the quadrant of each. I expected this part of the function to lead to the following output:\n",
    "\n",
    "    Point 2 is at (X1, Y1) \n",
    "    Point 2 lies in quadrant X.\n",
    "    Point 3 is at (X2, Y2)\n",
    "    Point 3 lies in quadrant X.\n",
    "    Point 4 is at (X3, Y3)\n",
    "    Point 4 lies in quadrant X. \n",
    "\n",
    "Instead, I just get:\n",
    "\n",
    "    None\n",
    "    \n",
    "The third part of my function also doesn't work. I created a list of four integers and created a `for` loop that should multiply each integer by 2. I expected the following outcome:\n",
    "\n",
    "    2\n",
    "    4\n",
    "    6\n",
    "    8\n",
    "\n",
    "I got no output and no error message.\n",
    "\n",
    "Over the course of the last few days, I have been working my way through the Python 2 CodeAcademy course. I have also called a family member who has extensive coding experience and enjoys teaching. To help me \"get unstuck\" on this particular assignment, I referred back to my notes from the Python 2 CodeAcademy course I am making my way through and did a few google searches. The code below is the result of lots of (rather frustrating) experimentation. \n",
    "\n",
    "Over the past few days, I spent approximately 10 hours on CodeAcademy and 5 hours on this assignment. As someone with no coding experience at all, I found it very difficult to know how to integrate the required elements of this function to create any sort of coherent output. \n",
    "\n",
    "**Questions I am left with**\n",
    "* Why is only the first part of my code working? It seems like the rest of the code isn't getting acted upon at all.\n",
    "* What kinds of _useful_ functions incorporate all of the required elements of this assignment? CodeAcademy has not yet introduced me to functions of more than about five lines. \n",
    "* What is the difference between `return` and `print`?\n",
    "* What are the key differences between Python 2 and Python 3 syntax?"
   ]
  },
  {
   "cell_type": "code",
   "execution_count": 41,
   "metadata": {},
   "outputs": [],
   "source": [
    "import random #imports 1 libary"
   ]
  },
  {
   "cell_type": "code",
   "execution_count": null,
   "metadata": {},
   "outputs": [],
   "source": [
    "def point1(x, y):\n",
    "   \n",
    "    # use an if/elif/else block to determine the quadrant in which this point lies.\n",
    "    if x > 0 and y > 0: \n",
    "        print (\"Point 1 lies in quadrant I.\")\n",
    "    elif x < 0 and y > 0:\n",
    "        print (\"Point 1 lies in quadrant II.\")\n",
    "    elif x < 0 and y < 0:\n",
    "        print (\"Point 1 lies in quadrant III.\")\n",
    "    elif x > 0 and y < 0:\n",
    "        print (\"Point 1 lies in quadrant IV.\")\n",
    "    else:\n",
    "        print (\"Point 1 lies on an axis.\")\n",
    "   \n",
    "    # next, return three random points and their quadrant.\n",
    "    count = 0 \n",
    "    while count <= 3:\n",
    "        x = random.randint(-10, 10)\n",
    "        y = random.randint(-10, 10)\n",
    "        p = 2\n",
    "        print (\"Point\" + str(p) + \" is at \" + \"(\" + str(x) + \",\" + str(y) + \")\")\n",
    "        if x > 0 and y > 0: \n",
    "            print (\"Point\" + str(p) +\"lies in quadrant I.\")\n",
    "        elif x < 0 and y > 0: \n",
    "            print (\"Point\" + str(p) +\"lies in quadrant II.\")\n",
    "        elif x < 0 and y < 0:\n",
    "            print (\"Point\" + str(p) +\"lies in quadrant III.\") \n",
    "        elif x > 0 and y < 0: \n",
    "            print (\"Point\" + str(p) +\"lies in quadrant IV.\")\n",
    "        else:\n",
    "            print (\"Point\" + str(p) +\"lies on an axis.\")\n",
    "        p += 1\n",
    "        count += 1\n",
    "    \n",
    "    # Here, I include a list and a for-loop to \"follow the letter\" of the GitHub instructions. \n",
    "    my_list = [1, 2, 3, 4] \n",
    "    for i in my_list:\n",
    "        print (i * 2)\n",
    "    "
   ]
  },
  {
   "cell_type": "code",
   "execution_count": 39,
   "metadata": {},
   "outputs": [
    {
     "name": "stdout",
     "output_type": "stream",
     "text": [
      "Point 1 lies in quadrant IV.\n",
      "None\n"
     ]
    }
   ],
   "source": [
    "sonia_point = point1(2, -5)\n",
    "print(sonia_point)"
   ]
  }
 ],
 "metadata": {
  "kernelspec": {
   "display_name": "Psych 81.09",
   "language": "python",
   "name": "psych81.09"
  },
  "language_info": {
   "codemirror_mode": {
    "name": "ipython",
    "version": 3
   },
   "file_extension": ".py",
   "mimetype": "text/x-python",
   "name": "python",
   "nbconvert_exporter": "python",
   "pygments_lexer": "ipython3",
   "version": "3.6.8"
  }
 },
 "nbformat": 4,
 "nbformat_minor": 2
}
