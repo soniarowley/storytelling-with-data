{
 "cells": [
  {
   "cell_type": "markdown",
   "metadata": {},
   "source": [
    "# Assignment 1"
   ]
  },
  {
   "cell_type": "code",
   "execution_count": 11,
   "metadata": {},
   "outputs": [],
   "source": [
    "#Imports random number generator (although its not used in the code below)\n",
    "import random"
   ]
  },
  {
   "cell_type": "markdown",
   "metadata": {},
   "source": [
    "# Questions from assignment:\n",
    "\n",
    " Q: What arguments the user needs to pass to the function? \n",
    " A: The user needs to input the number they want to check if prime at the first line of code that says num = x\n",
    " \n",
    " Q: What values are supported?\n",
    " A: all real numbers greater than 1\n",
    " \n",
    " Q: What the function does?\n",
    " A: The function will tell you if the number you entered is prime or not\n",
    " \n",
    " Q: What gets returned?\n",
    " A: X IS or is NOT a prime number\n",
    " \n",
    "The step-by-step tutorial I used for the code below: https://www.programiz.com/python-programming"
   ]
  },
  {
   "cell_type": "code",
   "execution_count": 1,
   "metadata": {},
   "outputs": [
    {
     "name": "stdout",
     "output_type": "stream",
     "text": [
      "3 is a prime number\n"
     ]
    }
   ],
   "source": [
    "#take input from user\n",
    "num = 3\n",
    "\n",
    "# prime numbers are greater than one\n",
    "if num > 1:\n",
    "   # check for any factors \n",
    "   for i in range(2,num):\n",
    "       if (num % i) == 0:\n",
    "           print(num,\"is not a prime number\")\n",
    "           print(i,\"times\",num//i,\"is\",num)\n",
    "           break\n",
    "   else:\n",
    "       print(num,\"is a prime number\")\n",
    "       \n",
    "# if input number is less than or equal to 1, it is not prime\n",
    "else:\n",
    "   print(num,\"is not a prime number\")"
   ]
  },
  {
   "cell_type": "code",
   "execution_count": null,
   "metadata": {},
   "outputs": [],
   "source": []
  }
 ],
 "metadata": {
  "kernelspec": {
   "display_name": "Psych 81.09",
   "language": "python",
   "name": "psych81.09"
  },
  "language_info": {
   "codemirror_mode": {
    "name": "ipython",
    "version": 3
   },
   "file_extension": ".py",
   "mimetype": "text/x-python",
   "name": "python",
   "nbconvert_exporter": "python",
   "pygments_lexer": "ipython3",
   "version": "3.6.8"
  }
 },
 "nbformat": 4,
 "nbformat_minor": 2
}
