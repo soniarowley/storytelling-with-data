{
 "cells": [
  {
   "cell_type": "markdown",
   "metadata": {},
   "source": [
    "### import libraries"
   ]
  },
  {
   "cell_type": "code",
   "execution_count": 1,
   "metadata": {},
   "outputs": [],
   "source": [
    "import numpy as np\n",
    "import pandas as pd\n",
    "import hypertools as hyp\n",
    "import matplotlib.pyplot as plt\n",
    "\n",
    "%matplotlib inline"
   ]
  },
  {
   "cell_type": "markdown",
   "metadata": {},
   "source": [
    "### read in data"
   ]
  },
  {
   "cell_type": "code",
   "execution_count": 2,
   "metadata": {},
   "outputs": [
    {
     "data": {
      "text/html": [
       "<div>\n",
       "<style scoped>\n",
       "    .dataframe tbody tr th:only-of-type {\n",
       "        vertical-align: middle;\n",
       "    }\n",
       "\n",
       "    .dataframe tbody tr th {\n",
       "        vertical-align: top;\n",
       "    }\n",
       "\n",
       "    .dataframe thead th {\n",
       "        text-align: right;\n",
       "    }\n",
       "</style>\n",
       "<table border=\"1\" class=\"dataframe\">\n",
       "  <thead>\n",
       "    <tr style=\"text-align: right;\">\n",
       "      <th></th>\n",
       "      <th></th>\n",
       "      <th>Serving Size</th>\n",
       "      <th>Calories</th>\n",
       "      <th>Calories from Fat</th>\n",
       "      <th>Total Fat</th>\n",
       "      <th>Total Fat (% Daily Value)</th>\n",
       "      <th>Saturated Fat</th>\n",
       "      <th>Saturated Fat (% Daily Value)</th>\n",
       "      <th>Trans Fat</th>\n",
       "      <th>Cholesterol</th>\n",
       "      <th>Cholesterol (% Daily Value)</th>\n",
       "      <th>...</th>\n",
       "      <th>Carbohydrates</th>\n",
       "      <th>Carbohydrates (% Daily Value)</th>\n",
       "      <th>Dietary Fiber</th>\n",
       "      <th>Dietary Fiber (% Daily Value)</th>\n",
       "      <th>Sugars</th>\n",
       "      <th>Protein</th>\n",
       "      <th>Vitamin A (% Daily Value)</th>\n",
       "      <th>Vitamin C (% Daily Value)</th>\n",
       "      <th>Calcium (% Daily Value)</th>\n",
       "      <th>Iron (% Daily Value)</th>\n",
       "    </tr>\n",
       "    <tr>\n",
       "      <th>Category</th>\n",
       "      <th>Item</th>\n",
       "      <th></th>\n",
       "      <th></th>\n",
       "      <th></th>\n",
       "      <th></th>\n",
       "      <th></th>\n",
       "      <th></th>\n",
       "      <th></th>\n",
       "      <th></th>\n",
       "      <th></th>\n",
       "      <th></th>\n",
       "      <th></th>\n",
       "      <th></th>\n",
       "      <th></th>\n",
       "      <th></th>\n",
       "      <th></th>\n",
       "      <th></th>\n",
       "      <th></th>\n",
       "      <th></th>\n",
       "      <th></th>\n",
       "      <th></th>\n",
       "      <th></th>\n",
       "    </tr>\n",
       "  </thead>\n",
       "  <tbody>\n",
       "    <tr>\n",
       "      <th rowspan=\"5\" valign=\"top\">Beef &amp; Pork</th>\n",
       "      <th>Bacon Clubhouse Burger</th>\n",
       "      <td>9.5 oz (270 g)</td>\n",
       "      <td>720</td>\n",
       "      <td>360</td>\n",
       "      <td>40.0</td>\n",
       "      <td>62</td>\n",
       "      <td>15.0</td>\n",
       "      <td>75</td>\n",
       "      <td>1.5</td>\n",
       "      <td>115</td>\n",
       "      <td>38</td>\n",
       "      <td>...</td>\n",
       "      <td>51</td>\n",
       "      <td>17</td>\n",
       "      <td>4</td>\n",
       "      <td>14</td>\n",
       "      <td>14</td>\n",
       "      <td>39</td>\n",
       "      <td>8</td>\n",
       "      <td>25</td>\n",
       "      <td>30</td>\n",
       "      <td>25</td>\n",
       "    </tr>\n",
       "    <tr>\n",
       "      <th>Bacon McDouble</th>\n",
       "      <td>5.7 oz (161 g)</td>\n",
       "      <td>440</td>\n",
       "      <td>200</td>\n",
       "      <td>22.0</td>\n",
       "      <td>34</td>\n",
       "      <td>10.0</td>\n",
       "      <td>49</td>\n",
       "      <td>1.0</td>\n",
       "      <td>90</td>\n",
       "      <td>30</td>\n",
       "      <td>...</td>\n",
       "      <td>35</td>\n",
       "      <td>12</td>\n",
       "      <td>2</td>\n",
       "      <td>7</td>\n",
       "      <td>7</td>\n",
       "      <td>27</td>\n",
       "      <td>6</td>\n",
       "      <td>10</td>\n",
       "      <td>20</td>\n",
       "      <td>20</td>\n",
       "    </tr>\n",
       "    <tr>\n",
       "      <th>Big Mac</th>\n",
       "      <td>7.4 oz (211 g)</td>\n",
       "      <td>530</td>\n",
       "      <td>240</td>\n",
       "      <td>27.0</td>\n",
       "      <td>42</td>\n",
       "      <td>10.0</td>\n",
       "      <td>48</td>\n",
       "      <td>1.0</td>\n",
       "      <td>85</td>\n",
       "      <td>28</td>\n",
       "      <td>...</td>\n",
       "      <td>47</td>\n",
       "      <td>16</td>\n",
       "      <td>3</td>\n",
       "      <td>13</td>\n",
       "      <td>9</td>\n",
       "      <td>24</td>\n",
       "      <td>6</td>\n",
       "      <td>2</td>\n",
       "      <td>25</td>\n",
       "      <td>25</td>\n",
       "    </tr>\n",
       "    <tr>\n",
       "      <th>Cheeseburger</th>\n",
       "      <td>4 oz (113 g)</td>\n",
       "      <td>290</td>\n",
       "      <td>100</td>\n",
       "      <td>11.0</td>\n",
       "      <td>18</td>\n",
       "      <td>5.0</td>\n",
       "      <td>27</td>\n",
       "      <td>0.5</td>\n",
       "      <td>45</td>\n",
       "      <td>15</td>\n",
       "      <td>...</td>\n",
       "      <td>33</td>\n",
       "      <td>11</td>\n",
       "      <td>2</td>\n",
       "      <td>7</td>\n",
       "      <td>7</td>\n",
       "      <td>15</td>\n",
       "      <td>6</td>\n",
       "      <td>2</td>\n",
       "      <td>20</td>\n",
       "      <td>15</td>\n",
       "    </tr>\n",
       "    <tr>\n",
       "      <th>Daily Double</th>\n",
       "      <td>6.7 oz (190 g)</td>\n",
       "      <td>430</td>\n",
       "      <td>200</td>\n",
       "      <td>22.0</td>\n",
       "      <td>35</td>\n",
       "      <td>9.0</td>\n",
       "      <td>44</td>\n",
       "      <td>1.0</td>\n",
       "      <td>80</td>\n",
       "      <td>27</td>\n",
       "      <td>...</td>\n",
       "      <td>34</td>\n",
       "      <td>11</td>\n",
       "      <td>2</td>\n",
       "      <td>8</td>\n",
       "      <td>7</td>\n",
       "      <td>22</td>\n",
       "      <td>8</td>\n",
       "      <td>8</td>\n",
       "      <td>20</td>\n",
       "      <td>20</td>\n",
       "    </tr>\n",
       "  </tbody>\n",
       "</table>\n",
       "<p>5 rows × 22 columns</p>\n",
       "</div>"
      ],
      "text/plain": [
       "                                      Serving Size  Calories  \\\n",
       "Category    Item                                               \n",
       "Beef & Pork Bacon Clubhouse Burger  9.5 oz (270 g)       720   \n",
       "            Bacon McDouble          5.7 oz (161 g)       440   \n",
       "            Big Mac                 7.4 oz (211 g)       530   \n",
       "            Cheeseburger              4 oz (113 g)       290   \n",
       "            Daily Double            6.7 oz (190 g)       430   \n",
       "\n",
       "                                    Calories from Fat  Total Fat  \\\n",
       "Category    Item                                                   \n",
       "Beef & Pork Bacon Clubhouse Burger                360       40.0   \n",
       "            Bacon McDouble                        200       22.0   \n",
       "            Big Mac                               240       27.0   \n",
       "            Cheeseburger                          100       11.0   \n",
       "            Daily Double                          200       22.0   \n",
       "\n",
       "                                    Total Fat (% Daily Value)  Saturated Fat  \\\n",
       "Category    Item                                                               \n",
       "Beef & Pork Bacon Clubhouse Burger                         62           15.0   \n",
       "            Bacon McDouble                                 34           10.0   \n",
       "            Big Mac                                        42           10.0   \n",
       "            Cheeseburger                                   18            5.0   \n",
       "            Daily Double                                   35            9.0   \n",
       "\n",
       "                                    Saturated Fat (% Daily Value)  Trans Fat  \\\n",
       "Category    Item                                                               \n",
       "Beef & Pork Bacon Clubhouse Burger                             75        1.5   \n",
       "            Bacon McDouble                                     49        1.0   \n",
       "            Big Mac                                            48        1.0   \n",
       "            Cheeseburger                                       27        0.5   \n",
       "            Daily Double                                       44        1.0   \n",
       "\n",
       "                                    Cholesterol  Cholesterol (% Daily Value)  \\\n",
       "Category    Item                                                               \n",
       "Beef & Pork Bacon Clubhouse Burger          115                           38   \n",
       "            Bacon McDouble                   90                           30   \n",
       "            Big Mac                          85                           28   \n",
       "            Cheeseburger                     45                           15   \n",
       "            Daily Double                     80                           27   \n",
       "\n",
       "                                            ...           Carbohydrates  \\\n",
       "Category    Item                            ...                           \n",
       "Beef & Pork Bacon Clubhouse Burger          ...                      51   \n",
       "            Bacon McDouble                  ...                      35   \n",
       "            Big Mac                         ...                      47   \n",
       "            Cheeseburger                    ...                      33   \n",
       "            Daily Double                    ...                      34   \n",
       "\n",
       "                                    Carbohydrates (% Daily Value)  \\\n",
       "Category    Item                                                    \n",
       "Beef & Pork Bacon Clubhouse Burger                             17   \n",
       "            Bacon McDouble                                     12   \n",
       "            Big Mac                                            16   \n",
       "            Cheeseburger                                       11   \n",
       "            Daily Double                                       11   \n",
       "\n",
       "                                    Dietary Fiber  \\\n",
       "Category    Item                                    \n",
       "Beef & Pork Bacon Clubhouse Burger              4   \n",
       "            Bacon McDouble                      2   \n",
       "            Big Mac                             3   \n",
       "            Cheeseburger                        2   \n",
       "            Daily Double                        2   \n",
       "\n",
       "                                    Dietary Fiber (% Daily Value)  Sugars  \\\n",
       "Category    Item                                                            \n",
       "Beef & Pork Bacon Clubhouse Burger                             14      14   \n",
       "            Bacon McDouble                                      7       7   \n",
       "            Big Mac                                            13       9   \n",
       "            Cheeseburger                                        7       7   \n",
       "            Daily Double                                        8       7   \n",
       "\n",
       "                                    Protein  Vitamin A (% Daily Value)  \\\n",
       "Category    Item                                                         \n",
       "Beef & Pork Bacon Clubhouse Burger       39                          8   \n",
       "            Bacon McDouble               27                          6   \n",
       "            Big Mac                      24                          6   \n",
       "            Cheeseburger                 15                          6   \n",
       "            Daily Double                 22                          8   \n",
       "\n",
       "                                    Vitamin C (% Daily Value)  \\\n",
       "Category    Item                                                \n",
       "Beef & Pork Bacon Clubhouse Burger                         25   \n",
       "            Bacon McDouble                                 10   \n",
       "            Big Mac                                         2   \n",
       "            Cheeseburger                                    2   \n",
       "            Daily Double                                    8   \n",
       "\n",
       "                                    Calcium (% Daily Value)  \\\n",
       "Category    Item                                              \n",
       "Beef & Pork Bacon Clubhouse Burger                       30   \n",
       "            Bacon McDouble                               20   \n",
       "            Big Mac                                      25   \n",
       "            Cheeseburger                                 20   \n",
       "            Daily Double                                 20   \n",
       "\n",
       "                                    Iron (% Daily Value)  \n",
       "Category    Item                                          \n",
       "Beef & Pork Bacon Clubhouse Burger                    25  \n",
       "            Bacon McDouble                            20  \n",
       "            Big Mac                                   25  \n",
       "            Cheeseburger                              15  \n",
       "            Daily Double                              20  \n",
       "\n",
       "[5 rows x 22 columns]"
      ]
     },
     "execution_count": 2,
     "metadata": {},
     "output_type": "execute_result"
    }
   ],
   "source": [
    "menu = pd.read_csv('menu.csv', index_col=['Category','Item']).sort_index()\n",
    "menu.head()"
   ]
  },
  {
   "cell_type": "markdown",
   "metadata": {},
   "source": [
    "### remove units from serving size column, covert type"
   ]
  },
  {
   "cell_type": "code",
   "execution_count": 3,
   "metadata": {
    "scrolled": true
   },
   "outputs": [
    {
     "name": "stdout",
     "output_type": "stream",
     "text": [
      "there are no NaN values in this dataset\n"
     ]
    }
   ],
   "source": [
    "menu['Serving Size'] = menu['Serving Size'].apply(lambda x: float(x.split()[0]))\n",
    "menu.rename({'Serving Size' : 'Serving Size (oz/fl oz)'}, axis='columns', inplace=True)\n",
    "if not pd.isnull(menu.values).any():\n",
    "    print('there are no NaN values in this dataset')"
   ]
  },
  {
   "cell_type": "markdown",
   "metadata": {},
   "source": [
    "## plot average calories per serving for each menu category (error bars = standard deviation)"
   ]
  },
  {
   "cell_type": "code",
   "execution_count": 4,
   "metadata": {},
   "outputs": [
    {
     "data": {
      "image/png": "[encoded data removed]",
      "text/plain": [
       "<Figure size 432x288 with 1 Axes>"
      ]
     },
     "metadata": {
      "needs_background": "light"
     },
     "output_type": "display_data"
    }
   ],
   "source": [
    "cat_group = menu.Calories.groupby('Category')\n",
    "ax = cat_group.mean().plot(kind='bar', yerr=cat_group.std())\n",
    "ax.set_xticklabels(cat_group.mean().index, rotation=45, ha='right')\n",
    "ax.set_ylabel('Calories')\n",
    "ax.set_title('Average calories per serving of menu categories')\n",
    "plt.show()"
   ]
  },
  {
   "cell_type": "markdown",
   "metadata": {},
   "source": [
    "### extract some values to an array"
   ]
  },
  {
   "cell_type": "code",
   "execution_count": 5,
   "metadata": {
    "scrolled": true
   },
   "outputs": [],
   "source": [
    "menu_values = menu[[col for col in menu.columns if '(' not in col]].values"
   ]
  },
  {
   "cell_type": "markdown",
   "metadata": {},
   "source": [
    "### Visualize clustering of nutrition info"
   ]
  },
  {
   "cell_type": "code",
   "execution_count": 6,
   "metadata": {
    "scrolled": false
   },
   "outputs": [
    {
     "data": {
      "image/png": "[encoded data removed]",
      "text/plain": [
       "<Figure size 864x576 with 1 Axes>"
      ]
     },
     "metadata": {},
     "output_type": "display_data"
    }
   ],
   "source": [
    "np.random.seed(0)    # so the plot will be the same for others who run this notebook\n",
    "cats = menu.index.levels[0]\n",
    "hue = [[i]*len(menu.loc[i]) for i in cats]\n",
    "legend = [list(set(i))[0] for i in hue]\n",
    "hyp.plot(menu_values, reduce='UMAP', ndims=2, fmt='.', hue=hue, legend=legend, size=[12,8])\n",
    "plt.show()"
   ]
  },
  {
   "cell_type": "markdown",
   "metadata": {},
   "source": [
    "I found a simple online dataset comprising nutrition info for each item on the McDonald's menu. The dataset came with labels for each item that corresponded to its category on the menu, so I thought would be interesting to compare the \"healthiness\" of the different categories as McDonald's defines them.  I loaded the data into a multi-index dataframe, filtered non-numbers from the one column that contained units (serving size), then quickly checked to make sure there were no NaNs present.  \n",
    "\n",
    "First, I wanted to simply compare the calorie counts between the categories, so I used the Pandas `groupby()` method to create a `groupby` object from the \"Calories\" column.  I made a simple barplot of the categories' averages with error bars showing the standard deviation of each (which is easily accessible with the `groupby` object's `std` method).  The standard deviations were larger than I expected, so I wanted to get more information about how varied the \"healthiness\" of items within each category was. \n",
    "\n",
    "I extracted the nutrition information to a numpy array, but left out the percent daily value columns, as I felt those were redundant with the raw values. I also left out the serving size, since I was not interested in that metric and because the units varied slightly between solid food and drinks. I then used `hypertools` and the `UMAP` algorithm to reduce the data to two dimensions and plot it.  \n",
    "\n",
    "In the plot, each dot is a menu item, colored by its category.  There appear to be 3-4 main clusters of menu items, and certain categories cluster together more than others.  Without further analysis, it is difficult to definitively say what combination of attributes constitute these clusters, but a quick re-examination of the dataset suggests that the top-right cluster is composed of high-protein/high-fat/meat-based foods, as Beef & Pork, Chicken & Fish, and Breakfast category items are highly concentrated there.  In the middle cluster seem to be high-sugar items, including Deserts, Smoothies & Shakes, and some Coffee & Tea items.  The bottom left appears to comprise healthier options, including a few Beverages, some snacks, and maybe some of the less elaborate coffee choices. Notice which cluster is the smallest..."
   ]
  },
  {
   "cell_type": "code",
   "execution_count": null,
   "metadata": {},
   "outputs": [],
   "source": []
  }
 ],
 "metadata": {
  "kernelspec": {
   "display_name": "Psych 81.09",
   "language": "python",
   "name": "psych81.09"
  },
  "language_info": {
   "codemirror_mode": {
    "name": "ipython",
    "version": 3
   },
   "file_extension": ".py",
   "mimetype": "text/x-python",
   "name": "python",
   "nbconvert_exporter": "python",
   "pygments_lexer": "ipython3",
   "version": "3.6.8"
  }
 },
 "nbformat": 4,
 "nbformat_minor": 2
}
