{
 "cells": [
  {
   "cell_type": "code",
   "execution_count": 296,
   "metadata": {},
   "outputs": [],
   "source": [
    "import pandas as pd\n",
    "import numpy as np\n",
    "import seaborn as sns\n",
    "import hypertools as hyp\n",
    "import matplotlib.pyplot as plt\n",
    "\n",
    "%matplotlib inline"
   ]
  },
  {
   "cell_type": "code",
   "execution_count": 297,
   "metadata": {},
   "outputs": [
    {
     "data": {
      "text/html": [
       "<div>\n",
       "<style scoped>\n",
       "    .dataframe tbody tr th:only-of-type {\n",
       "        vertical-align: middle;\n",
       "    }\n",
       "\n",
       "    .dataframe tbody tr th {\n",
       "        vertical-align: top;\n",
       "    }\n",
       "\n",
       "    .dataframe thead th {\n",
       "        text-align: right;\n",
       "    }\n",
       "</style>\n",
       "<table border=\"1\" class=\"dataframe\">\n",
       "  <thead>\n",
       "    <tr style=\"text-align: right;\">\n",
       "      <th></th>\n",
       "      <th>yearID</th>\n",
       "      <th>gameNum</th>\n",
       "      <th>gameID</th>\n",
       "      <th>lgID</th>\n",
       "      <th>tm_OFF_talent</th>\n",
       "      <th>tm_DEF_talent</th>\n",
       "      <th>tm_PIT_talent</th>\n",
       "      <th>MLB_avg_RPG</th>\n",
       "      <th>talent_RSPG</th>\n",
       "      <th>talent_RAPG</th>\n",
       "      <th>unadj_PYTH</th>\n",
       "      <th>timeline_adj</th>\n",
       "      <th>SOS</th>\n",
       "      <th>adj_PYTH</th>\n",
       "      <th>no_1_player</th>\n",
       "      <th>no_2_player</th>\n",
       "    </tr>\n",
       "  </thead>\n",
       "  <tbody>\n",
       "    <tr>\n",
       "      <th>0</th>\n",
       "      <td>1966</td>\n",
       "      <td>0</td>\n",
       "      <td>NLS196607120</td>\n",
       "      <td>NL</td>\n",
       "      <td>1.332265</td>\n",
       "      <td>0.130991</td>\n",
       "      <td>0.720508</td>\n",
       "      <td>3.99</td>\n",
       "      <td>5.322265</td>\n",
       "      <td>3.138501</td>\n",
       "      <td>0.724426</td>\n",
       "      <td>0.860664</td>\n",
       "      <td>0.430332</td>\n",
       "      <td>0.665082</td>\n",
       "      <td>mayswi01</td>\n",
       "      <td>santoro01</td>\n",
       "    </tr>\n",
       "    <tr>\n",
       "      <th>1</th>\n",
       "      <td>1986</td>\n",
       "      <td>0</td>\n",
       "      <td>NLS198607150</td>\n",
       "      <td>AL</td>\n",
       "      <td>1.049056</td>\n",
       "      <td>0.356240</td>\n",
       "      <td>0.677431</td>\n",
       "      <td>4.41</td>\n",
       "      <td>5.459056</td>\n",
       "      <td>3.376329</td>\n",
       "      <td>0.706675</td>\n",
       "      <td>0.917536</td>\n",
       "      <td>0.458768</td>\n",
       "      <td>0.671282</td>\n",
       "      <td>higuete01</td>\n",
       "      <td>clemero02</td>\n",
       "    </tr>\n",
       "    <tr>\n",
       "      <th>2</th>\n",
       "      <td>1934</td>\n",
       "      <td>0</td>\n",
       "      <td>NLS193407100</td>\n",
       "      <td>AL</td>\n",
       "      <td>1.778661</td>\n",
       "      <td>0.116654</td>\n",
       "      <td>0.627669</td>\n",
       "      <td>4.91</td>\n",
       "      <td>6.688661</td>\n",
       "      <td>4.165678</td>\n",
       "      <td>0.704031</td>\n",
       "      <td>0.769668</td>\n",
       "      <td>0.384834</td>\n",
       "      <td>0.598084</td>\n",
       "      <td>hardeme01</td>\n",
       "      <td>foxxji01</td>\n",
       "    </tr>\n",
       "    <tr>\n",
       "      <th>3</th>\n",
       "      <td>1941</td>\n",
       "      <td>0</td>\n",
       "      <td>ALS194107080</td>\n",
       "      <td>AL</td>\n",
       "      <td>1.472107</td>\n",
       "      <td>0.090803</td>\n",
       "      <td>0.616915</td>\n",
       "      <td>4.49</td>\n",
       "      <td>5.962107</td>\n",
       "      <td>3.782282</td>\n",
       "      <td>0.696952</td>\n",
       "      <td>0.789573</td>\n",
       "      <td>0.394787</td>\n",
       "      <td>0.600030</td>\n",
       "      <td>dimagjo01</td>\n",
       "      <td>willite01</td>\n",
       "    </tr>\n",
       "    <tr>\n",
       "      <th>4</th>\n",
       "      <td>1940</td>\n",
       "      <td>0</td>\n",
       "      <td>NLS194007090</td>\n",
       "      <td>AL</td>\n",
       "      <td>1.356557</td>\n",
       "      <td>0.138973</td>\n",
       "      <td>0.673328</td>\n",
       "      <td>4.68</td>\n",
       "      <td>6.036557</td>\n",
       "      <td>3.867698</td>\n",
       "      <td>0.693104</td>\n",
       "      <td>0.786730</td>\n",
       "      <td>0.393365</td>\n",
       "      <td>0.594230</td>\n",
       "      <td>dimagjo01</td>\n",
       "      <td>newsobo01</td>\n",
       "    </tr>\n",
       "  </tbody>\n",
       "</table>\n",
       "</div>"
      ],
      "text/plain": [
       "   yearID  gameNum        gameID lgID  tm_OFF_talent  tm_DEF_talent  \\\n",
       "0    1966        0  NLS196607120   NL       1.332265       0.130991   \n",
       "1    1986        0  NLS198607150   AL       1.049056       0.356240   \n",
       "2    1934        0  NLS193407100   AL       1.778661       0.116654   \n",
       "3    1941        0  ALS194107080   AL       1.472107       0.090803   \n",
       "4    1940        0  NLS194007090   AL       1.356557       0.138973   \n",
       "\n",
       "   tm_PIT_talent  MLB_avg_RPG  talent_RSPG  talent_RAPG  unadj_PYTH  \\\n",
       "0       0.720508         3.99     5.322265     3.138501    0.724426   \n",
       "1       0.677431         4.41     5.459056     3.376329    0.706675   \n",
       "2       0.627669         4.91     6.688661     4.165678    0.704031   \n",
       "3       0.616915         4.49     5.962107     3.782282    0.696952   \n",
       "4       0.673328         4.68     6.036557     3.867698    0.693104   \n",
       "\n",
       "   timeline_adj       SOS  adj_PYTH no_1_player no_2_player  \n",
       "0      0.860664  0.430332  0.665082    mayswi01   santoro01  \n",
       "1      0.917536  0.458768  0.671282   higuete01   clemero02  \n",
       "2      0.769668  0.384834  0.598084   hardeme01    foxxji01  \n",
       "3      0.789573  0.394787  0.600030   dimagjo01   willite01  \n",
       "4      0.786730  0.393365  0.594230   dimagjo01   newsobo01  "
      ]
     },
     "execution_count": 297,
     "metadata": {},
     "output_type": "execute_result"
    }
   ],
   "source": [
    "# imports dataset and displays first five rows\n",
    "allstars = pd.read_csv('allstar_team_talent.csv')\n",
    "allstars.head()"
   ]
  },
  {
   "cell_type": "code",
   "execution_count": 298,
   "metadata": {},
   "outputs": [
    {
     "data": {
      "text/html": [
       "<div>\n",
       "<style scoped>\n",
       "    .dataframe tbody tr th:only-of-type {\n",
       "        vertical-align: middle;\n",
       "    }\n",
       "\n",
       "    .dataframe tbody tr th {\n",
       "        vertical-align: top;\n",
       "    }\n",
       "\n",
       "    .dataframe thead th {\n",
       "        text-align: right;\n",
       "    }\n",
       "</style>\n",
       "<table border=\"1\" class=\"dataframe\">\n",
       "  <thead>\n",
       "    <tr style=\"text-align: right;\">\n",
       "      <th></th>\n",
       "      <th></th>\n",
       "      <th>Offensive Talent</th>\n",
       "      <th>Defensive Talent</th>\n",
       "      <th>Pitching Talent</th>\n",
       "      <th>MLB Avg. Runs Scored</th>\n",
       "      <th>Expected Runs Scored</th>\n",
       "      <th>Expected Runs Allowed</th>\n",
       "      <th>League Quality Relative to 2015</th>\n",
       "      <th>Pythagorean Talent Rating</th>\n",
       "    </tr>\n",
       "    <tr>\n",
       "      <th>Year</th>\n",
       "      <th>League</th>\n",
       "      <th></th>\n",
       "      <th></th>\n",
       "      <th></th>\n",
       "      <th></th>\n",
       "      <th></th>\n",
       "      <th></th>\n",
       "      <th></th>\n",
       "      <th></th>\n",
       "    </tr>\n",
       "  </thead>\n",
       "  <tbody>\n",
       "    <tr>\n",
       "      <th rowspan=\"2\" valign=\"top\">1933</th>\n",
       "      <th>AL</th>\n",
       "      <td>1.291067</td>\n",
       "      <td>0.131162</td>\n",
       "      <td>0.453936</td>\n",
       "      <td>4.48</td>\n",
       "      <td>5.771067</td>\n",
       "      <td>3.894902</td>\n",
       "      <td>0.766825</td>\n",
       "      <td>0.560809</td>\n",
       "    </tr>\n",
       "    <tr>\n",
       "      <th>NL</th>\n",
       "      <td>0.853086</td>\n",
       "      <td>-0.060718</td>\n",
       "      <td>0.491377</td>\n",
       "      <td>4.48</td>\n",
       "      <td>5.333086</td>\n",
       "      <td>4.049341</td>\n",
       "      <td>0.766825</td>\n",
       "      <td>0.507212</td>\n",
       "    </tr>\n",
       "    <tr>\n",
       "      <th rowspan=\"2\" valign=\"top\">1934</th>\n",
       "      <th>AL</th>\n",
       "      <td>1.778661</td>\n",
       "      <td>0.116654</td>\n",
       "      <td>0.627669</td>\n",
       "      <td>4.91</td>\n",
       "      <td>6.688661</td>\n",
       "      <td>4.165678</td>\n",
       "      <td>0.769668</td>\n",
       "      <td>0.598084</td>\n",
       "    </tr>\n",
       "    <tr>\n",
       "      <th>NL</th>\n",
       "      <td>0.768908</td>\n",
       "      <td>0.028509</td>\n",
       "      <td>0.560984</td>\n",
       "      <td>4.91</td>\n",
       "      <td>5.678908</td>\n",
       "      <td>4.320506</td>\n",
       "      <td>0.769668</td>\n",
       "      <td>0.507804</td>\n",
       "    </tr>\n",
       "    <tr>\n",
       "      <th>1935</th>\n",
       "      <th>AL</th>\n",
       "      <td>1.303554</td>\n",
       "      <td>0.128962</td>\n",
       "      <td>0.540452</td>\n",
       "      <td>4.90</td>\n",
       "      <td>6.203554</td>\n",
       "      <td>4.230587</td>\n",
       "      <td>0.772512</td>\n",
       "      <td>0.559076</td>\n",
       "    </tr>\n",
       "  </tbody>\n",
       "</table>\n",
       "</div>"
      ],
      "text/plain": [
       "             Offensive Talent  Defensive Talent  Pitching Talent  \\\n",
       "Year League                                                        \n",
       "1933 AL              1.291067          0.131162         0.453936   \n",
       "     NL              0.853086         -0.060718         0.491377   \n",
       "1934 AL              1.778661          0.116654         0.627669   \n",
       "     NL              0.768908          0.028509         0.560984   \n",
       "1935 AL              1.303554          0.128962         0.540452   \n",
       "\n",
       "             MLB Avg. Runs Scored  Expected Runs Scored  \\\n",
       "Year League                                               \n",
       "1933 AL                      4.48              5.771067   \n",
       "     NL                      4.48              5.333086   \n",
       "1934 AL                      4.91              6.688661   \n",
       "     NL                      4.91              5.678908   \n",
       "1935 AL                      4.90              6.203554   \n",
       "\n",
       "             Expected Runs Allowed  League Quality Relative to 2015  \\\n",
       "Year League                                                           \n",
       "1933 AL                   3.894902                         0.766825   \n",
       "     NL                   4.049341                         0.766825   \n",
       "1934 AL                   4.165678                         0.769668   \n",
       "     NL                   4.320506                         0.769668   \n",
       "1935 AL                   4.230587                         0.772512   \n",
       "\n",
       "             Pythagorean Talent Rating  \n",
       "Year League                             \n",
       "1933 AL                       0.560809  \n",
       "     NL                       0.507212  \n",
       "1934 AL                       0.598084  \n",
       "     NL                       0.507804  \n",
       "1935 AL                       0.559076  "
      ]
     },
     "execution_count": 298,
     "metadata": {},
     "output_type": "execute_result"
    }
   ],
   "source": [
    "# drops irrelevant columns\n",
    "allstars.drop(['gameNum', 'gameID', 'unadj_PYTH', 'SOS', 'no_1_player', 'no_2_player'], inplace=True, axis=1)\n",
    "\n",
    "# renames columns into readable format\n",
    "columns = {'yearID': 'Year',\n",
    "           'lgID': 'League',\n",
    "           'tm_OFF_talent': 'Offensive Talent', \n",
    "           'tm_DEF_talent': 'Defensive Talent', \n",
    "           'tm_PIT_talent': 'Pitching Talent', \n",
    "           'MLB_avg_RPG': 'MLB Avg. Runs Scored',\n",
    "           'talent_RSPG': 'Expected Runs Scored', \n",
    "           'talent_RAPG': 'Expected Runs Allowed', \n",
    "           'timeline_adj': 'League Quality Relative to 2015', \n",
    "           'adj_PYTH': 'Pythagorean Talent Rating'}\n",
    "allstars.rename(columns, inplace=True, axis=1)\n",
    "\n",
    "# sorts dataframe using year and league indices, and fills nan values with 0\n",
    "allstars.set_index(['Year', 'League'], inplace=True)\n",
    "allstars.sort_index(inplace=True)\n",
    "allstars.fillna(0)\n",
    "\n",
    "# displays first five rows of cleaned data\n",
    "allstars.head()"
   ]
  },
  {
   "cell_type": "code",
   "execution_count": 299,
   "metadata": {
    "scrolled": true
   },
   "outputs": [
    {
     "data": {
      "image/png": "[encoded data removed]",
      "text/plain": [
       "<Figure size 432x288 with 1 Axes>"
      ]
     },
     "metadata": {},
     "output_type": "display_data"
    },
    {
     "data": {
      "text/plain": [
       "<hypertools.datageometry.DataGeometry at 0x2aba24b3eb70>"
      ]
     },
     "execution_count": 299,
     "metadata": {},
     "output_type": "execute_result"
    }
   ],
   "source": [
    "# hypertools data plot\n",
    "hyp.plot(allstars, 'o', hue=np.array(allstars.index), reduce='UMAP')"
   ]
  },
  {
   "cell_type": "code",
   "execution_count": 300,
   "metadata": {},
   "outputs": [
    {
     "data": {
      "text/plain": [
       "array([[ 1.29106745,  0.13116207,  0.45393638, ...,  3.89490155,\n",
       "         0.76682465,  0.56080893],\n",
       "       [ 0.85308606, -0.06071802,  0.49137691, ...,  4.0493411 ,\n",
       "         0.76682465,  0.50721158],\n",
       "       [ 1.77866132,  0.1166537 ,  0.6276686 , ...,  4.1656777 ,\n",
       "         0.76966825,  0.59808424],\n",
       "       ...,\n",
       "       [ 0.9642164 ,  0.10546605,  0.41296975, ...,  3.55156421,\n",
       "         0.9971564 ,  0.65311149],\n",
       "       [ 0.73736864,  0.19884627,  0.40237015, ...,  3.49878358,\n",
       "         1.        ,  0.6440162 ],\n",
       "       [ 0.93150172,  0.27275952,  0.4409722 , ...,  3.38626828,\n",
       "         1.        ,  0.67363272]])"
      ]
     },
     "execution_count": 300,
     "metadata": {},
     "output_type": "execute_result"
    }
   ],
   "source": [
    "# creates array of values in dataset\n",
    "as_values = allstars.values\n",
    "as_values"
   ]
  },
  {
   "cell_type": "code",
   "execution_count": 310,
   "metadata": {
    "scrolled": true
   },
   "outputs": [
    {
     "data": {
      "text/plain": [
       "<seaborn.axisgrid.FacetGrid at 0x2aba24dea588>"
      ]
     },
     "execution_count": 310,
     "metadata": {},
     "output_type": "execute_result"
    },
    {
     "data": {
      "image/png": "[encoded data removed]",
      "text/plain": [
       "<Figure size 413.975x360 with 1 Axes>"
      ]
     },
     "metadata": {},
     "output_type": "display_data"
    }
   ],
   "source": [
    "# scatter plot of talent rating between the AL and NL over the years\n",
    "sns.catplot(x='Year', y='Pythagorean Talent Rating', hue='League', data=allstars.reset_index())\n"
   ]
  },
  {
   "cell_type": "markdown",
   "metadata": {},
   "source": [
    "### Summary\n",
    "\n",
    "I have always enjoyed FiveThirtyEight's data visualization and analysis methods in sports, particularly baseball. With Jay's guidance I found an interesting dataset about MLB All-Star games on their GitHub page. This dataset summarized talent ratings for each league's All-Star teams over about 80 seasons.\n",
    "\n",
    "After cleaning up the data, I visualized it using hypertools and UMAP dimension reduction. It is hard to pinpoint exactly what is shown, but similar hues clustered together indicates there is some pattern in the data.\n",
    "\n",
    "Then, I generated a scatterplot of FiveThirtyEight's talent rating over the years, with colors representing teams from each league (AL and NL). There is a clear pattern showing that as the seasons have progressed, All-Star teams have been getting better."
   ]
  },
  {
   "cell_type": "code",
   "execution_count": null,
   "metadata": {},
   "outputs": [],
   "source": []
  }
 ],
 "metadata": {
  "kernelspec": {
   "display_name": "Psych 81.09",
   "language": "python",
   "name": "psych81.09"
  },
  "language_info": {
   "codemirror_mode": {
    "name": "ipython",
    "version": 3
   },
   "file_extension": ".py",
   "mimetype": "text/x-python",
   "name": "python",
   "nbconvert_exporter": "python",
   "pygments_lexer": "ipython3",
   "version": "3.6.8"
  }
 },
 "nbformat": 4,
 "nbformat_minor": 2
}
