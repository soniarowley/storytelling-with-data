{
 "cells": [
  {
   "cell_type": "markdown",
   "metadata": {},
   "source": [
    "# Assignment 2"
   ]
  },
  {
   "cell_type": "code",
   "execution_count": 1,
   "metadata": {},
   "outputs": [],
   "source": [
    "#Task 1: Create a cell that imports libraries needed for data viz\n",
    "#Source for basic setup: https://data36.com/pandas-tutorial-1-basics-reading-data-files-dataframes-data-selection/\n",
    "\n",
    "import numpy as np\n",
    "import pandas as pd\n",
    "import seaborn as sns\n",
    "import matplotlib.pyplot as plt"
   ]
  },
  {
   "cell_type": "markdown",
   "metadata": {},
   "source": [
    "## Read in the dataset downloaded from internet"
   ]
  },
  {
   "cell_type": "code",
   "execution_count": 2,
   "metadata": {},
   "outputs": [
    {
     "ename": "NameError",
     "evalue": "name 'data' is not defined",
     "output_type": "error",
     "traceback": [
      "\u001b[0;31m---------------------------------------------------------------------------\u001b[0m",
      "\u001b[0;31mNameError\u001b[0m                                 Traceback (most recent call last)",
      "\u001b[0;32m<ipython-input-2-41cca1ea3200>\u001b[0m in \u001b[0;36m<module>\u001b[0;34m\u001b[0m\n\u001b[1;32m      5\u001b[0m \u001b[0;34m\u001b[0m\u001b[0m\n\u001b[1;32m      6\u001b[0m \u001b[0mdf\u001b[0m\u001b[0;34m=\u001b[0m\u001b[0mpd\u001b[0m\u001b[0;34m.\u001b[0m\u001b[0mread_csv\u001b[0m\u001b[0;34m(\u001b[0m\u001b[0;34m'albumlist.csv'\u001b[0m\u001b[0;34m,\u001b[0m \u001b[0mdelimiter\u001b[0m\u001b[0;34m=\u001b[0m\u001b[0;34m','\u001b[0m\u001b[0;34m,\u001b[0m \u001b[0mencoding\u001b[0m \u001b[0;34m=\u001b[0m \u001b[0;34m'latin-1'\u001b[0m\u001b[0;34m)\u001b[0m\u001b[0;34m\u001b[0m\u001b[0;34m\u001b[0m\u001b[0m\n\u001b[0;32m----> 7\u001b[0;31m \u001b[0mdata\u001b[0m\u001b[0;34m.\u001b[0m\u001b[0mhead\u001b[0m\u001b[0;34m(\u001b[0m\u001b[0;36m5\u001b[0m\u001b[0;34m)\u001b[0m\u001b[0;34m\u001b[0m\u001b[0;34m\u001b[0m\u001b[0m\n\u001b[0m\u001b[1;32m      8\u001b[0m \u001b[0;34m\u001b[0m\u001b[0m\n\u001b[1;32m      9\u001b[0m \u001b[0;34m\u001b[0m\u001b[0m\n",
      "\u001b[0;31mNameError\u001b[0m: name 'data' is not defined"
     ]
    }
   ],
   "source": [
    "#Task 2a: Add a cell that imports a dataset into the notebook\n",
    "#Task 2b: Load the data into a Pandas Dataframe & display the first 5 rows\n",
    "#Source: https://www.kaggle.com/notgibs/500-greatest-albums-of-all-time-rolling-\n",
    "#Link to stackoverflow for encoding error: https://github.com/IBM/pixiedust-facebook-analysis/issues/39\n",
    "\n",
    "df=pd.read_csv('albumlist.csv', delimiter=',', encoding = 'latin-1')\n",
    "data.head(5)\n",
    "\n",
    "\n"
   ]
  },
  {
   "cell_type": "markdown",
   "metadata": {},
   "source": [
    "## Sort & Tidy Data"
   ]
  },
  {
   "cell_type": "code",
   "execution_count": null,
   "metadata": {},
   "outputs": [],
   "source": [
    "#Run basic descriptive statistics \n",
    "\n",
    "print(data.describe())"
   ]
  },
  {
   "cell_type": "code",
   "execution_count": null,
   "metadata": {},
   "outputs": [],
   "source": [
    "# Above we can see that the oldest album is from 1955 and the newest is from 2011.\n",
    "# The average year of album release is 1979."
   ]
  },
  {
   "cell_type": "code",
   "execution_count": null,
   "metadata": {},
   "outputs": [],
   "source": [
    "# List the Top 20 most frequent artists that appear on the LIST\n",
    "print('\\nThe Top 20 top artists/bands are listed below:\\n\\n', df['Artist'].value_counts()[:20])\n"
   ]
  },
  {
   "cell_type": "code",
   "execution_count": null,
   "metadata": {},
   "outputs": [],
   "source": [
    "#TASK 3: Remove unneeded columns & make a new dataframe grouped by artist \n",
    "#Used concepts from this website: https://medium.freecodecamp.org/visualising-rolling-stones-500-greatest-songs-using-bokeh-78ebc0eaff3f\n",
    "#Also used this cheat sheet: https://ugoproto.github.io/ugo_py_doc/Pandas_DataFrame_Notes.pdf\n",
    "\n",
    "df_grouped=df.groupby('Artist')\n",
    "artists=df_grouped.size()\n",
    "df_art=pd.DataFrame({'Artist': artists.index, '# of Top 500 Albums': artists.values})\n",
    "\n",
    "df_art=df_art.sort_values('# of Top 500 Albums', ascending=False)\n",
    "df_art.index=np.arange(1, len(df_art)+1)\n",
    "print(df_art.head())\n",
    "print('\\nThe Top 20 bands & artists are listed below again:\\n\\n', df_art[:20])\n"
   ]
  },
  {
   "cell_type": "markdown",
   "metadata": {},
   "source": [
    "## Create A Plot!"
   ]
  },
  {
   "cell_type": "code",
   "execution_count": null,
   "metadata": {
    "scrolled": true
   },
   "outputs": [],
   "source": [
    "#TASK 4: Add a fourth cell that creates a plot\n",
    "#Make a bar chart from the cleaned up dataframe defined above\n",
    "df_art=df_art[:20]\n",
    "\n",
    "fig = plt.figure(figsize = (10, 10))\n",
    "sns.set_style(\"whitegrid\")\n",
    "ax = sns.barplot(x='Artist', y='# of Top 500 Albums', data=df_art)\n",
    "\n",
    "plt.title('Artists with the most Albums in the Top 500', fontsize = 20)\n",
    "plt.xlabel('Artist', fontsize = 10)\n",
    "plt.setp(ax.get_xticklabels(), rotation=65)\n",
    "plt.ylabel('# of Top 500 Albums', fontsize = 10)\n",
    "plt.show()\n"
   ]
  },
  {
   "cell_type": "markdown",
   "metadata": {},
   "source": [
    "## What are the top 20 Genres? "
   ]
  },
  {
   "cell_type": "code",
   "execution_count": null,
   "metadata": {},
   "outputs": [],
   "source": [
    "#Source: https://data36.com/pandas-tutorial-2-aggregation-and-grouping/\n",
    "genre_grouped=df.groupby('Genre')\n",
    "genres=genre_grouped.size()\n",
    "df_genre=pd.DataFrame({'Genre': genres.index, '# of top 500 Albums': genres.values})\n",
    "\n",
    "df_genre=df_genre[:20]\n",
    "df_genre=df_genre.sort_values('# of top 500 Albums', ascending=False)\n",
    "\n",
    "fig = plt.figure(figsize = (10, 10))\n",
    "sns.set_style(\"whitegrid\")\n",
    "ax = sns.barplot(x='Genre', y='# of top 500 Albums', data=df_genre)\n",
    "\n",
    "plt.title('Genres by Ranking', fontsize = 20)\n",
    "plt.xlabel('Genre', fontsize = 15)\n",
    "plt.setp(ax.get_xticklabels(), rotation=90)\n",
    "plt.ylabel('# of top 500 Albums', fontsize = 15)\n",
    "plt.show()"
   ]
  },
  {
   "cell_type": "markdown",
   "metadata": {},
   "source": [
    "## Pie Chart by Genre "
   ]
  },
  {
   "cell_type": "code",
   "execution_count": null,
   "metadata": {},
   "outputs": [],
   "source": [
    "#Source 1: https://stackoverflow.com/questions/30059862/pandas-pie-chart-plot-remove-the-label-text-on-the-\n",
    "\n",
    "fig = plt.figure(figsize=(20, 20))\n",
    "\n",
    "plt.pie(df_genre['# of top 500 Albums'], autopct='%1.0f%%', pctdistance=0.85,)\n",
    "plt.title('Most popular genres as categorized by Rolling Stone Magazine')\n",
    "plt.legend(df_genre['Genre'], loc='best')\n",
    "plt.show()\n"
   ]
  },
  {
   "cell_type": "markdown",
   "metadata": {},
   "source": [
    "## Convert to Numpy Array "
   ]
  },
  {
   "cell_type": "code",
   "execution_count": null,
   "metadata": {},
   "outputs": [],
   "source": [
    "#TASK 5: Extract the data from the pandas datafram into a numpy array. (FAILED)\n",
    "df = df.values"
   ]
  },
  {
   "cell_type": "code",
   "execution_count": null,
   "metadata": {},
   "outputs": [],
   "source": [
    "##I could not get this part to work, IDK if its another encoding thing, but I tried all the reccomendations on stack overflow:\n",
    "#Source: https://stackoverflow.com/questions/17241004/how-do-i-get-a-dataframe-index-series-column-as-an-array-or-list\n",
    "#https://stackoverflow.com/questions/13187778/convert-pandas-dataframe-to-numpy-array/54508052#54508052\n",
    "\n",
    "#1. I was trying to convert my pandas dataframe to a numpy array using the .values attribute of numpy. \n",
    "#2. I tried using to_numpy() Method / df.index.values / etc\n",
    "#3. I thought I could convert my pandas dataframe into an numpy array eventhough it containted non-numiercal values\n",
    "#4. I keep getting an error: I think its becuase numpy doesn't accept OBJECTS and most of my data is non-numerical\n",
    "#4. and was kept this way that so I could have the artist names and genres in my analysis. \n",
    "#5. Searched Stackoverflow / Texted paxton / Asked a friend from DALI lab (Kaitlyn Hahn)\n",
    "#6. 2 hours"
   ]
  },
  {
   "cell_type": "code",
   "execution_count": null,
   "metadata": {},
   "outputs": [],
   "source": [
    "#TASK 6: Carry out some kind of basic analysis or data viz of the numpy array (FAILED)\n",
    "#Can't use numpy's viz functions until we can get the array loaded in properly. "
   ]
  }
 ],
 "metadata": {
  "kernelspec": {
   "display_name": "Psych 81.09",
   "language": "python",
   "name": "psych81.09"
  },
  "language_info": {
   "codemirror_mode": {
    "name": "ipython",
    "version": 3
   },
   "file_extension": ".py",
   "mimetype": "text/x-python",
   "name": "python",
   "nbconvert_exporter": "python",
   "pygments_lexer": "ipython3",
   "version": "3.6.8"
  }
 },
 "nbformat": 4,
 "nbformat_minor": 2
}
