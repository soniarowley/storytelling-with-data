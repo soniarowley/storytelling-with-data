{
 "cells": [
  {
   "cell_type": "code",
   "execution_count": 384,
   "metadata": {},
   "outputs": [],
   "source": [
    "import numpy as np\n",
    "import pandas as pd"
   ]
  },
  {
   "cell_type": "code",
   "execution_count": 385,
   "metadata": {},
   "outputs": [
    {
     "name": "stdout",
     "output_type": "stream",
     "text": [
      "         rd1_win  rd2_win  rd3_win  rd4_win  rd5_win  rd6_win  rd7_win  \\\n",
      "team_id                                                                  \n",
      "222          1.0      1.0      1.0      1.0      1.0      1.0  0.64439   \n",
      "130          1.0      1.0      1.0      1.0      1.0      1.0  0.35561   \n",
      "2350         1.0      1.0      1.0      1.0      1.0      0.0  0.00000   \n",
      "2305         1.0      1.0      1.0      1.0      1.0      0.0  0.00000   \n",
      "2306         1.0      1.0      1.0      1.0      0.0      0.0  0.00000   \n",
      "\n",
      "         team_rating team_seed  \n",
      "team_id                         \n",
      "222            97.66         1  \n",
      "130            93.98         3  \n",
      "2350           87.27        11  \n",
      "2305           92.37         1  \n",
      "2306           87.40         9  \n"
     ]
    }
   ],
   "source": [
    "df = pd.read_csv('fivethirtyeight_ncaa_forecasts.csv') \n",
    "df = df.set_index('team_id') #set the numerical team_id to be the index\n",
    "df.drop(['gender', 'forecast_date', 'playin_flag', 'team_alive', 'team_name', 'team_region'], axis=1, inplace=True)\n",
    "print(df.head()) #these columns were unnecessary "
   ]
  },
  {
   "cell_type": "markdown",
   "metadata": {},
   "source": [
    "*I'm not sure why, but dropping columns only worked when I put the line of code in the cell above and not the one below. I got a \"ValueError\" message that said the labels of the columns that I wanted to delete were not contained in the axis, but they were. "
   ]
  },
  {
   "cell_type": "code",
   "execution_count": 386,
   "metadata": {},
   "outputs": [
    {
     "name": "stdout",
     "output_type": "stream",
     "text": [
      "         rd1_win   rd2_win   rd3_win       rd4_win       rd5_win  \\\n",
      "team_id                                                            \n",
      "222          1.0  1.000000  1.000000  1.000000e+00  1.000000e+00   \n",
      "130          1.0  1.000000  1.000000  1.000000e+00  1.000000e+00   \n",
      "2350         1.0  1.000000  1.000000  1.000000e+00  1.000000e+00   \n",
      "2305         1.0  1.000000  1.000000  1.000000e+00  1.000000e+00   \n",
      "2306         1.0  1.000000  1.000000  1.000000e+00  0.000000e+00   \n",
      "52           1.0  1.000000  1.000000  1.000000e+00  0.000000e+00   \n",
      "150          1.0  1.000000  1.000000  1.000000e+00  0.000000e+00   \n",
      "2641         1.0  1.000000  1.000000  1.000000e+00  0.000000e+00   \n",
      "96           1.0  1.000000  1.000000  0.000000e+00  0.000000e+00   \n",
      "2440         1.0  1.000000  1.000000  0.000000e+00  0.000000e+00   \n",
      "2250         1.0  1.000000  1.000000  0.000000e+00  0.000000e+00   \n",
      "245          1.0  1.000000  1.000000  0.000000e+00  0.000000e+00   \n",
      "228          1.0  1.000000  1.000000  0.000000e+00  0.000000e+00   \n",
      "183          1.0  1.000000  1.000000  0.000000e+00  0.000000e+00   \n",
      "277          1.0  1.000000  1.000000  0.000000e+00  0.000000e+00   \n",
      "2509         1.0  1.000000  1.000000  0.000000e+00  0.000000e+00   \n",
      "2378         1.0  1.000000  0.000000  0.000000e+00  0.000000e+00   \n",
      "2084         1.0  1.000000  0.000000  0.000000e+00  0.000000e+00   \n",
      "2633         1.0  1.000000  0.000000  0.000000e+00  0.000000e+00   \n",
      "2132         1.0  1.000000  0.000000  0.000000e+00  0.000000e+00   \n",
      "2752         1.0  1.000000  0.000000  0.000000e+00  0.000000e+00   \n",
      "194          1.0  1.000000  0.000000  0.000000e+00  0.000000e+00   \n",
      "248          1.0  1.000000  0.000000  0.000000e+00  0.000000e+00   \n",
      "153          1.0  1.000000  0.000000  0.000000e+00  0.000000e+00   \n",
      "2550         1.0  1.000000  0.000000  0.000000e+00  0.000000e+00   \n",
      "2            1.0  1.000000  0.000000  0.000000e+00  0.000000e+00   \n",
      "127          1.0  1.000000  0.000000  0.000000e+00  0.000000e+00   \n",
      "227          1.0  1.000000  0.000000  0.000000e+00  0.000000e+00   \n",
      "333          1.0  1.000000  0.000000  0.000000e+00  0.000000e+00   \n",
      "276          1.0  1.000000  0.000000  0.000000e+00  0.000000e+00   \n",
      "...          ...       ...       ...           ...           ...   \n",
      "25           1.0  0.531760  0.039432  1.113126e-02  1.908291e-04   \n",
      "2117         1.0  0.478239  0.054425  5.085810e-03  6.070149e-04   \n",
      "2168         1.0  0.286107  0.011533  3.879901e-03  2.886675e-04   \n",
      "2514         1.0  0.449098  0.001907  7.947138e-04  1.641064e-04   \n",
      "258          1.0  0.468240  0.031252  7.343833e-03  1.000394e-04   \n",
      "222          1.0  0.394347  0.011849  3.657218e-03  4.548790e-04   \n",
      "163          1.0  0.177720  0.045426  2.480572e-03  3.364826e-04   \n",
      "156          1.0  0.342711  0.021977  3.191942e-03  3.837944e-04   \n",
      "2084         1.0  0.199327  0.022229  3.761567e-03  6.250080e-05   \n",
      "2210         1.0  0.192405  0.051801  2.509021e-03  3.072367e-04   \n",
      "2057         1.0  0.208594  0.061660  3.958704e-04  6.469012e-05   \n",
      "98           1.0  0.248897  0.030256  1.254314e-03  1.513366e-04   \n",
      "2250         1.0  0.106745  0.047055  2.961925e-03  1.722514e-04   \n",
      "158          1.0  0.239775  0.009817  2.016206e-03  2.164691e-04   \n",
      "2181         1.0  0.124283  0.028703  1.974330e-03  2.316796e-04   \n",
      "2382         1.0  0.206736  0.057468  2.979207e-04  4.153894e-05   \n",
      "526          1.0  0.195027  0.016982  9.047238e-04  4.487628e-05   \n",
      "45           1.0  0.032342  0.009890  4.026863e-04  2.323782e-05   \n",
      "2458         1.0  0.190743  0.001200  1.557122e-04  1.082232e-05   \n",
      "2031         1.0  0.027941  0.003926  2.178600e-04  1.097456e-06   \n",
      "311          1.0  0.007542  0.001140  7.985268e-05  2.982483e-06   \n",
      "44           1.0  0.008765  0.001351  4.717479e-05  1.518885e-06   \n",
      "68           1.0  0.004921  0.000643  7.126764e-05  1.393983e-06   \n",
      "2335         1.0  0.019137  0.002190  2.052065e-05  7.505170e-07   \n",
      "2598         1.0  0.000232  0.000034  4.123551e-06  2.024590e-07   \n",
      "2547         1.0  0.003431  0.000284  1.562261e-05  4.438080e-07   \n",
      "2448         1.0  0.004049  0.000441  1.600771e-05  2.980300e-08   \n",
      "2463         1.0  0.001221  0.000101  7.578481e-06  2.002720e-07   \n",
      "2447         1.0  0.000792  0.000044  1.894325e-06  2.945000e-08   \n",
      "2755         1.0  0.000275  0.000015  2.634970e-07  2.606000e-09   \n",
      "\n",
      "              rd6_win       rd7_win  team_rating team_seed  \n",
      "team_id                                                     \n",
      "222      1.000000e+00  6.443899e-01        97.66         1  \n",
      "130      1.000000e+00  3.556101e-01        93.98         3  \n",
      "2350     0.000000e+00  0.000000e+00        87.27        11  \n",
      "2305     0.000000e+00  0.000000e+00        92.37         1  \n",
      "2306     0.000000e+00  0.000000e+00        87.40         9  \n",
      "52       0.000000e+00  0.000000e+00        87.48         9  \n",
      "150      0.000000e+00  0.000000e+00        94.56         2  \n",
      "2641     0.000000e+00  0.000000e+00        89.19         3  \n",
      "96       0.000000e+00  0.000000e+00        90.54         5  \n",
      "2440     0.000000e+00  0.000000e+00        84.49         7  \n",
      "2250     0.000000e+00  0.000000e+00        90.07         4  \n",
      "245      0.000000e+00  0.000000e+00        88.13         7  \n",
      "228      0.000000e+00  0.000000e+00        87.57         5  \n",
      "183      0.000000e+00  0.000000e+00        84.60       11b  \n",
      "277      0.000000e+00  0.000000e+00        91.15         5  \n",
      "2509     0.000000e+00  0.000000e+00        89.95         2  \n",
      "2378     0.000000e+00  0.000000e+00        77.73        16  \n",
      "2084     0.000000e+00  0.000000e+00        83.38        13  \n",
      "2633     0.000000e+00  0.000000e+00        87.49         3  \n",
      "2132     0.000000e+00  0.000000e+00        91.21         2  \n",
      "2752     0.000000e+00  0.000000e+00        88.91         1  \n",
      "194      0.000000e+00  0.000000e+00        86.03         5  \n",
      "248      0.000000e+00  0.000000e+00        86.50         6  \n",
      "153      0.000000e+00  0.000000e+00        90.70         2  \n",
      "2550     0.000000e+00  0.000000e+00        85.95         8  \n",
      "2        0.000000e+00  0.000000e+00        84.29         4  \n",
      "127      0.000000e+00  0.000000e+00        91.75         3  \n",
      "227      0.000000e+00  0.000000e+00        83.75         7  \n",
      "333      0.000000e+00  0.000000e+00        83.03         9  \n",
      "276      0.000000e+00  0.000000e+00        77.86        13  \n",
      "...               ...           ...          ...       ...  \n",
      "25       3.134488e-05  3.847195e-06        85.11         7  \n",
      "2117     1.773491e-05  2.033140e-06        81.36        11  \n",
      "2168     3.939719e-05  1.765611e-06        79.88         9  \n",
      "2514     1.881413e-05  1.605663e-06        79.85         9  \n",
      "258      1.457218e-05  1.585149e-06        81.44        10  \n",
      "222      1.320148e-05  1.508473e-06        81.44         9  \n",
      "163      2.902564e-05  1.214156e-06        80.84        12  \n",
      "156      3.013735e-05  1.145422e-06        80.95        11  \n",
      "2084     9.669344e-06  1.121322e-06        81.12        11  \n",
      "2210     2.389564e-05  9.011430e-07        79.75        13  \n",
      "2057     8.445216e-06  8.240550e-07        79.98        12  \n",
      "98       1.710105e-05  6.276380e-07        79.30        11  \n",
      "2250     1.785401e-05  5.971080e-07        81.47        13  \n",
      "158      1.487341e-05  4.959860e-07        79.79        10  \n",
      "2181     5.097996e-06  4.598780e-07        79.56        13  \n",
      "2382     4.410630e-06  3.496930e-07        78.69        13  \n",
      "526      3.934439e-06  1.108750e-07        78.55        12  \n",
      "45       3.266990e-07  2.002900e-08        75.17        14  \n",
      "2458     7.701090e-07  1.757600e-08        76.66        10  \n",
      "2031     6.667200e-08  3.062000e-09        73.64        14  \n",
      "311      1.016010e-07  1.726000e-09        73.34        15  \n",
      "44       4.846200e-08  7.740000e-10        71.55        14  \n",
      "68       5.450400e-08  6.810000e-10        72.44        16  \n",
      "2335     2.914300e-08  3.620000e-10        69.68        14  \n",
      "2598     7.271000e-09  2.020000e-10        67.54        16  \n",
      "2547     1.089000e-09  1.400000e-11        65.92        15  \n",
      "2448     6.990000e-10  1.300000e-11        65.27        15  \n",
      "2463     6.100000e-10  1.000000e-11        66.59        16  \n",
      "2447     2.420000e-10  1.000000e-12        62.81        16  \n",
      "2755     2.700000e-11  0.000000e+00        60.58        15  \n",
      "\n",
      "[1456 rows x 9 columns]\n"
     ]
    }
   ],
   "source": [
    "#was able to drop all non-numerical values by dropping the columns\n",
    "df.fillna(0)\n",
    "print(df)"
   ]
  },
  {
   "cell_type": "code",
   "execution_count": 387,
   "metadata": {},
   "outputs": [
    {
     "data": {
      "image/png": "[encoded data removed]",
      "text/plain": [
       "<Figure size 432x288 with 1 Axes>"
      ]
     },
     "metadata": {},
     "output_type": "display_data"
    },
    {
     "data": {
      "text/plain": [
       "<hypertools.datageometry.DataGeometry at 0x2b6c2ac71be0>"
      ]
     },
     "execution_count": 387,
     "metadata": {},
     "output_type": "execute_result"
    }
   ],
   "source": [
    "import hypertools as hyp\n",
    "hyp.plot(df, 'o', hue=np.array(df.index))"
   ]
  },
  {
   "cell_type": "code",
   "execution_count": 388,
   "metadata": {},
   "outputs": [
    {
     "name": "stdout",
     "output_type": "stream",
     "text": [
      "[[1.0 1.0 1.0 ... 0.6443898733810001 97.66 '1']\n",
      " [1.0 1.0 1.0 ... 0.355610126619 93.98 '3']\n",
      " [1.0 1.0 1.0 ... 0.0 87.27 '11']\n",
      " ...\n",
      " [1.0 0.001221192712 0.000101390849 ... 1.0000000000000001e-11 66.59 '16']\n",
      " [1.0 0.0007916008139999999 4.4270740999999995e-05 ... 1e-12 62.81 '16']\n",
      " [1.0 0.000275298524 1.53374e-05 ... 0.0 60.58 '15']]\n"
     ]
    }
   ],
   "source": [
    "a = df.values\n",
    "print(a)"
   ]
  },
  {
   "cell_type": "code",
   "execution_count": 389,
   "metadata": {},
   "outputs": [
    {
     "data": {
      "text/html": [
       "<div>\n",
       "<style scoped>\n",
       "    .dataframe tbody tr th:only-of-type {\n",
       "        vertical-align: middle;\n",
       "    }\n",
       "\n",
       "    .dataframe tbody tr th {\n",
       "        vertical-align: top;\n",
       "    }\n",
       "\n",
       "    .dataframe thead th {\n",
       "        text-align: right;\n",
       "    }\n",
       "</style>\n",
       "<table border=\"1\" class=\"dataframe\">\n",
       "  <thead>\n",
       "    <tr style=\"text-align: right;\">\n",
       "      <th></th>\n",
       "      <th>rd1_win</th>\n",
       "      <th>rd2_win</th>\n",
       "      <th>rd3_win</th>\n",
       "      <th>rd4_win</th>\n",
       "      <th>rd5_win</th>\n",
       "      <th>rd6_win</th>\n",
       "      <th>rd7_win</th>\n",
       "      <th>team_rating</th>\n",
       "    </tr>\n",
       "  </thead>\n",
       "  <tbody>\n",
       "    <tr>\n",
       "      <th>count</th>\n",
       "      <td>1456.000000</td>\n",
       "      <td>1456.000000</td>\n",
       "      <td>1456.000000</td>\n",
       "      <td>1456.000000</td>\n",
       "      <td>1456.000000</td>\n",
       "      <td>1456.000000</td>\n",
       "      <td>1456.000000</td>\n",
       "      <td>1456.000000</td>\n",
       "    </tr>\n",
       "    <tr>\n",
       "      <th>mean</th>\n",
       "      <td>0.967033</td>\n",
       "      <td>0.483516</td>\n",
       "      <td>0.241758</td>\n",
       "      <td>0.120879</td>\n",
       "      <td>0.060440</td>\n",
       "      <td>0.030220</td>\n",
       "      <td>0.015110</td>\n",
       "      <td>83.376614</td>\n",
       "    </tr>\n",
       "    <tr>\n",
       "      <th>std</th>\n",
       "      <td>0.172966</td>\n",
       "      <td>0.468695</td>\n",
       "      <td>0.386415</td>\n",
       "      <td>0.272505</td>\n",
       "      <td>0.177471</td>\n",
       "      <td>0.111739</td>\n",
       "      <td>0.070889</td>\n",
       "      <td>8.473283</td>\n",
       "    </tr>\n",
       "    <tr>\n",
       "      <th>min</th>\n",
       "      <td>0.000000</td>\n",
       "      <td>0.000000</td>\n",
       "      <td>0.000000</td>\n",
       "      <td>0.000000</td>\n",
       "      <td>0.000000</td>\n",
       "      <td>0.000000</td>\n",
       "      <td>0.000000</td>\n",
       "      <td>60.580000</td>\n",
       "    </tr>\n",
       "    <tr>\n",
       "      <th>25%</th>\n",
       "      <td>1.000000</td>\n",
       "      <td>0.000000</td>\n",
       "      <td>0.000000</td>\n",
       "      <td>0.000000</td>\n",
       "      <td>0.000000</td>\n",
       "      <td>0.000000</td>\n",
       "      <td>0.000000</td>\n",
       "      <td>78.690000</td>\n",
       "    </tr>\n",
       "    <tr>\n",
       "      <th>50%</th>\n",
       "      <td>1.000000</td>\n",
       "      <td>0.403987</td>\n",
       "      <td>0.000000</td>\n",
       "      <td>0.000000</td>\n",
       "      <td>0.000000</td>\n",
       "      <td>0.000000</td>\n",
       "      <td>0.000000</td>\n",
       "      <td>83.430000</td>\n",
       "    </tr>\n",
       "    <tr>\n",
       "      <th>75%</th>\n",
       "      <td>1.000000</td>\n",
       "      <td>1.000000</td>\n",
       "      <td>0.416373</td>\n",
       "      <td>0.037712</td>\n",
       "      <td>0.008234</td>\n",
       "      <td>0.001956</td>\n",
       "      <td>0.000420</td>\n",
       "      <td>88.130000</td>\n",
       "    </tr>\n",
       "    <tr>\n",
       "      <th>max</th>\n",
       "      <td>1.000000</td>\n",
       "      <td>1.000000</td>\n",
       "      <td>1.000000</td>\n",
       "      <td>1.000000</td>\n",
       "      <td>1.000000</td>\n",
       "      <td>1.000000</td>\n",
       "      <td>0.764739</td>\n",
       "      <td>115.600000</td>\n",
       "    </tr>\n",
       "  </tbody>\n",
       "</table>\n",
       "</div>"
      ],
      "text/plain": [
       "           rd1_win      rd2_win      rd3_win      rd4_win      rd5_win  \\\n",
       "count  1456.000000  1456.000000  1456.000000  1456.000000  1456.000000   \n",
       "mean      0.967033     0.483516     0.241758     0.120879     0.060440   \n",
       "std       0.172966     0.468695     0.386415     0.272505     0.177471   \n",
       "min       0.000000     0.000000     0.000000     0.000000     0.000000   \n",
       "25%       1.000000     0.000000     0.000000     0.000000     0.000000   \n",
       "50%       1.000000     0.403987     0.000000     0.000000     0.000000   \n",
       "75%       1.000000     1.000000     0.416373     0.037712     0.008234   \n",
       "max       1.000000     1.000000     1.000000     1.000000     1.000000   \n",
       "\n",
       "           rd6_win      rd7_win  team_rating  \n",
       "count  1456.000000  1456.000000  1456.000000  \n",
       "mean      0.030220     0.015110    83.376614  \n",
       "std       0.111739     0.070889     8.473283  \n",
       "min       0.000000     0.000000    60.580000  \n",
       "25%       0.000000     0.000000    78.690000  \n",
       "50%       0.000000     0.000000    83.430000  \n",
       "75%       0.001956     0.000420    88.130000  \n",
       "max       1.000000     0.764739   115.600000  "
      ]
     },
     "execution_count": 389,
     "metadata": {},
     "output_type": "execute_result"
    }
   ],
   "source": [
    "df.describe() #summary"
   ]
  },
  {
   "cell_type": "code",
   "execution_count": 390,
   "metadata": {},
   "outputs": [
    {
     "data": {
      "text/plain": [
       "array([ 60.58,  60.58,  60.58, ..., 114.92, 115.6 , 115.6 ])"
      ]
     },
     "execution_count": 390,
     "metadata": {},
     "output_type": "execute_result"
    }
   ],
   "source": [
    "np.sort(df.team_rating) #another sort"
   ]
  },
  {
   "cell_type": "markdown",
   "metadata": {},
   "source": [
    "As shown in the hypertools plot, there's seems to be some correlational relationship between the variables included (whether a team was expected to win in rounds 1-7, teams' ratinings, and teams' seeds) because the 3D plot shows a somewhat cohesive plane of dots. Additionally, the summary table shows that as the percentile rank of a teams' likelihood to win increased so did their team rating. "
   ]
  }
 ],
 "metadata": {
  "kernelspec": {
   "display_name": "Psych 81.09",
   "language": "python",
   "name": "psych81.09"
  },
  "language_info": {
   "codemirror_mode": {
    "name": "ipython",
    "version": 3
   },
   "file_extension": ".py",
   "mimetype": "text/x-python",
   "name": "python",
   "nbconvert_exporter": "python",
   "pygments_lexer": "ipython3",
   "version": "3.6.8"
  }
 },
 "nbformat": 4,
 "nbformat_minor": 2
}
